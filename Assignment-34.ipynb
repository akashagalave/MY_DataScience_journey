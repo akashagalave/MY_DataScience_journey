{
 "cells": [
  {
   "attachments": {
    "702f8697-a764-44ef-a699-587a2fc8f087.png": {
     "image/png": "[encoded data removed]"
    }
   },
   "cell_type": "markdown",
   "id": "1aa075ca-cb1d-4d90-851e-e501bc1d411f",
   "metadata": {},
   "source": [
    "Q1: What are the Probability Mass Function (PMF) and Probability Density Function (PDF)? Explain with\n",
    "an example.\n",
    "\n",
    "Ans: \n",
    "* The Probability Mass Function (PMF) is also called a probability function or frequency function which characterizes the distribution of a discrete random variable. Let X be a discrete random variable of a function, then the probability mass function of a random variable X is given by\n",
    "\n",
    "Px (x) = P( X=x ), For all x belongs to the range of X\n",
    "\n",
    "* The Probability Density Function(PDF) defines the probability function representing the density of a continuous random variable lying between a specific range of values. In other words, the probability density function produces the likelihood of values of the continuous random variable.\n",
    "\n",
    "![image.png](attachment:702f8697-a764-44ef-a699-587a2fc8f087.png)"
   ]
  },
  {
   "cell_type": "markdown",
   "id": "2e0a4b85-6f39-455f-8cd0-3f5d55b61ccb",
   "metadata": {},
   "source": [
    "Let X be the random variable that shows how many heads are obtained. X can take on the values 0, 1, 2. The probability that X will be equal to 1 is 0.5. Thus, it can be said that the probability mass function of X evaluated at 1 will be 0.5."
   ]
  },
  {
   "cell_type": "markdown",
   "id": "def68ad9-c6fb-4f65-9473-1332ae6e2a60",
   "metadata": {},
   "source": [
    "Consider an example with PDF, f(x) = x + 3, when 1 < x ≤ 3. We have to find P(2 < X < 3). Integrating x + 3 within the limits 2 and 3 gives the answer 5.5."
   ]
  },
  {
   "cell_type": "markdown",
   "id": "40bae337-b554-452b-a825-80b5e2f57775",
   "metadata": {},
   "source": [
    "Q2: What is Cumulative Density Function (CDF)? Explain with an example. Why CDF is used?\n",
    "\n",
    "Ans: The cumulative distribution function is used to describe the probability distribution of random variables. It can be used to describe the probability for a discrete, continuous or mixed variable. It is obtained by summing up the probability density function and getting the cumulative probability for a random variable.\n",
    "\n",
    "The cumulative distribution function (CDF) calculates the cumulative probability for a given x-value. Use the CDF to determine the likelihood that a random observation taken from the population will be less than or equal to a particular value.\n",
    "\n",
    "The CDF is flat between the points in RX and jumps at each value in the range. The size of the jump at each point is equal to the probability at that point. For, example, at point x=1, the CDF jumps from 14 to 34. The size of the jump here is 34−14=12 which is equal to PX(1)."
   ]
  },
  {
   "cell_type": "markdown",
   "id": "8e9aa598-3590-4ff2-997e-c0779522514e",
   "metadata": {},
   "source": [
    "Q3: What are some examples of situations where the normal distribution might be used as a model?\n",
    "Explain how the parameters of the normal distribution relate to the shape of the distribution.\n",
    "\n",
    "Ans:  All kinds of variables in natural and social sciences are normally or approximately normally distributed. Height, birth weight, reading ability, job satisfaction, or SAT scores are just a few examples of such variables.\n",
    "\n",
    "The height of people is an example of normal distribution. Most of the people in a specific population are of average height. The number of people taller and shorter than the average height people is almost equal, and a very small number of people are either extremely tall or extremely short.\n",
    "\n",
    "The two main parameters of a (normal) distribution are the mean and standard deviation. The parameters determine the shape and probabilities of the distribution. The shape of the distribution changes as the parameter values change."
   ]
  },
  {
   "cell_type": "markdown",
   "id": "d33b80f7-2146-46f9-9540-f9e98d5feb45",
   "metadata": {},
   "source": [
    "Q4: Explain the importance of Normal Distribution. Give a few real-life examples of Normal\n",
    "Distribution.\n",
    "\n",
    "Ans: One reason the normal distribution is important is that many psychological and educational variables are distributed approximately normally. Measures of reading ability, introversion, job satisfaction, and memory are among the many psychological variables approximately normally distributed.\n",
    "\n",
    "The central limit theorem gives the normal distribution its central place in the theory of sampling since many important problems can be solved by this single patter of sampling variability. \n",
    "\n",
    "Characteristics that are the sum of many independent processes frequently follow normal distributions. For example, heights, blood pressure, measurement error, and IQ scores follow the normal distribution."
   ]
  },
  {
   "cell_type": "markdown",
   "id": "8b2fb69c-3060-4535-a637-5f2e0817f4a1",
   "metadata": {},
   "source": [
    "Q5: What is Bernaulli Distribution? Give an Example. What is the difference between Bernoulli\n",
    "Distribution and Binomial Distribution?\n",
    "\n",
    "Ans:Bernoulli distribution is a discrete probability distribution describes the probability that each possible value of a discrete random variable will occur.\n",
    "\n",
    "a Bernoulli distribution is a type of binomial distribution. We know that Bernoulli distribution applies to events that have one trial (n = 1) and two possible outcomes—for example, one coin flip (that’s the trial) and an outcome of either heads or tails. \n",
    "\n",
    "Bernoulli distribution gives you the probability of “success” (say, landing on heads) when flipping the coin just once (that’s your Bernoulli trial). If you flip the coin five times, binomial distribution will calculate the probability of success (landing on heads) across all five coin flips\n",
    "\n",
    "* Example\n",
    "\n",
    "The coin toss example is perhaps the easiest way to explain Bernoulli distribution. Let’s say that the outcome of “heads” is a “success,” while an outcome of “tails” is a “failure.” In this instance:\n",
    "\n",
    "The probability of a successful outcome (landing on heads) is written as p\n",
    "\n",
    "The probability of a failure (landing on tails), written as q, "
   ]
  },
  {
   "cell_type": "markdown",
   "id": "27b0e261-1b17-402a-a6d1-bb22144d6309",
   "metadata": {},
   "source": [
    "Q6. Consider a dataset with a mean of 50 and a standard deviation of 10. If we assume that the dataset\n",
    "is normally distributed, what is the probability that a randomly selected observation will be greater\n",
    "than 60? Use the appropriate formula and show your calculations."
   ]
  },
  {
   "cell_type": "markdown",
   "id": "4b7d8583-1743-4361-9287-b6f04d12a24f",
   "metadata": {},
   "source": [
    " u=50  and  sd=10\n",
    " \n",
    " apply z- score formula ,\n",
    " \n",
    " z-score= (xi- u)/sd\n",
    " \n",
    " z-score=(60-50)/10\n",
    " \n",
    " z-score= 1 \n",
    " \n",
    " Now compare the value of area corresponding to this value in positive z table \n",
    " \n",
    " area = 0.84134  (less than z-score)\n",
    " \n",
    " Answer = 1- 0.84134 = 0.15866 (greater than z-score)"
   ]
  },
  {
   "cell_type": "markdown",
   "id": "20705a7e-59de-407f-b58e-84f7aa3c71c8",
   "metadata": {},
   "source": [
    "Q7: Explain uniform Distribution with an example.\n",
    "\n",
    "Ans:  In statistics, uniform distribution refers to a type of probability distribution in which all outcomes are equally likely.\n",
    "\n",
    "A deck of cards has within it uniform distributions because the likelihood of drawing a heart, a club, a diamond, or a spade is equally likely."
   ]
  },
  {
   "cell_type": "markdown",
   "id": "2aa5f011-f19e-41af-921d-43671ab617c1",
   "metadata": {},
   "source": [
    "Q8: What is the z score? State the importance of the z score.\n",
    "\n",
    "Ans: Z-score is a statistical measurement that describes a value's relationship to the mean of a group of values. Z-score is measured in terms of standard deviations from the mean. If a Z-score is 0, it indicates that the data point's score is identical to the mean score.\n",
    "\n",
    "Z-scores are important because they offer a comparison between two scores that are not in the same normal distribution. They are also used to obtain the probability of a z-score to take place within a normal distribution. If a z-score gives a negative value, it means that raw data is lesser than mean."
   ]
  },
  {
   "cell_type": "markdown",
   "id": "503d1f54-f568-4e50-95d6-f405b529d2cd",
   "metadata": {},
   "source": [
    "Q9: What is Central Limit Theorem? State the significance of the Central Limit Theorem.\n",
    "\n",
    "Ans: The CLT is a statistical theory that states that - if you take a sufficiently large sample size from a population with a finite level of variance, the mean of all samples from that population will be roughly equal to the population mean.\n",
    "\n",
    "Significance:\n",
    "\n",
    "Political/election polling is a great example of how you can use CLT. These polls are used to estimate the number of people who support a specific candidate. You may have seen these results with confidence intervals on news channels. The CLT aids in this calculation.\n",
    "\n",
    "You use the CLT in various census fields to calculate various population details, such as family income, electricity consumption, individual salaries, and so on."
   ]
  },
  {
   "cell_type": "markdown",
   "id": "c74f1b7e-d431-4868-a6f6-79a547b22b59",
   "metadata": {},
   "source": [
    "Q10: State the assumptions of the Central Limit Theorem.\n",
    "\n",
    "Ans: it is important to understand the assumptions behind CLT:\n",
    "\n",
    "1) The data must adhere to the randomization rule. It needs to be sampled at random.\n",
    "\n",
    "2) The samples should be unrelated to one another. One sample should not impact the others.\n",
    "\n",
    "3) When taking samples without replacement, the sample size should not exceed 10% of the population.\n",
    "\n",
    "4) When the population is symmetric, a sample size of 30 is generally considered reasonable. "
   ]
  }
 ],
 "metadata": {
  "kernelspec": {
   "display_name": "Python 3 (ipykernel)",
   "language": "python",
   "name": "python3"
  },
  "language_info": {
   "codemirror_mode": {
    "name": "ipython",
    "version": 3
   },
   "file_extension": ".py",
   "mimetype": "text/x-python",
   "name": "python",
   "nbconvert_exporter": "python",
   "pygments_lexer": "ipython3",
   "version": "3.10.8"
  }
 },
 "nbformat": 4,
 "nbformat_minor": 5
}
