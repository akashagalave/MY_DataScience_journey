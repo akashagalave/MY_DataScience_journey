{
 "cells": [
  {
   "cell_type": "markdown",
   "id": "2e4fff06-d570-4ecc-8293-a2cd8fa2408f",
   "metadata": {},
   "source": [
    "Q1. Pearson correlation coefficient is a measure of the linear relationship between two variables. Suppose\n",
    "you have collected data on the amount of time students spend studying for an exam and their final exam\n",
    "scores. Calculate the Pearson correlation coefficient between these two variables and interpret the result.\n",
    "\n",
    "Ans: The Pearson correlation coefficient, often denoted as \"r,\" is a statistical measure that quantifies the strength and direction of the linear relationship between two continuous variables. It ranges from -1 to 1, where:\n",
    "\n",
    "r = 1 indicates a perfect positive linear relationship.\n",
    "\n",
    "r = -1 indicates a perfect negative linear relationship.\n",
    "\n",
    "r ≈ 0 indicates little to no linear relationship.\n",
    "\n",
    "To calculate the Pearson correlation coefficient between the amount of time students spend studying for an exam and their final exam scores, you would typically use a statistical software or programming language like Python or R. Here, I'll provide a general interpretation of the result:\n",
    "\n",
    "If the Pearson correlation coefficient (r) is close to 1, it suggests a strong positive linear relationship. In this context, it would mean that as students spend more time studying, their final exam scores tend to be higher.\n",
    "\n",
    "If r is close to -1, it indicates a strong negative linear relationship. This would imply that as students spend more time studying, their final exam scores tend to be lower.\n",
    "\n",
    "If r is close to 0, it suggests little to no linear relationship. In this case, the amount of time spent studying does not have a significant linear impact on final exam scores. However, it's important to note that non-linear relationships may still exist, and other factors might be influencing the exam scores.\n",
    "\n",
    "Keep in mind that correlation does not imply causation. Even if a strong correlation is found between study time and exam scores, it does not necessarily mean that studying more causes higher scores. Other variables or factors may be at play, and further analysis or experiments would be needed to establish causation."
   ]
  },
  {
   "cell_type": "code",
   "execution_count": 1,
   "id": "cbcfdec3-ad24-4f31-bc0e-46effdcf166d",
   "metadata": {},
   "outputs": [
    {
     "name": "stdout",
     "output_type": "stream",
     "text": [
      "Pearson Correlation Coefficient: 1.0\n"
     ]
    }
   ],
   "source": [
    "import numpy as np\n",
    "from scipy.stats import pearsonr\n",
    "\n",
    "# Example data (replace with your actual data)\n",
    "study_time = [10, 20, 30, 40, 50]\n",
    "exam_scores = [60, 70, 80, 90, 100]\n",
    "\n",
    "# Calculate Pearson correlation coefficient\n",
    "corr_coefficient, p_value = pearsonr(study_time, exam_scores)\n",
    "\n",
    "print(\"Pearson Correlation Coefficient:\", corr_coefficient)"
   ]
  },
  {
   "cell_type": "markdown",
   "id": "fc5d874c-ee13-4922-9f79-c35688348f68",
   "metadata": {},
   "source": [
    "The output will provide the Pearson correlation coefficient, which you can interpret as described above. Additionally, the p-value can be used to assess the statistical significance of the correlation."
   ]
  },
  {
   "cell_type": "markdown",
   "id": "2bc7f613-e43b-4852-ab32-498591be3c0a",
   "metadata": {},
   "source": [
    "Q2. Spearman's rank correlation is a measure of the monotonic relationship between two variables.\n",
    "Suppose you have collected data on the amount of sleep individuals get each night and their overall job\n",
    "satisfaction level on a scale of 1 to 10. Calculate the Spearman's rank correlation between these two\n",
    "variables and interpret the result.\n",
    "\n",
    "Ans: Spearman's rank correlation coefficient, often denoted as \"ρ\" (rho), is a non-parametric measure of the strength and direction of the monotonic relationship between two variables. It is used when the relationship between variables is not necessarily linear but rather shows a consistent trend (increasing or decreasing) without adhering to the strict assumptions of linearity.\n",
    "\n",
    "Spearman's rank correlation is calculated by first ranking the data for each variable and then calculating the Pearson correlation coefficient on the ranks. The interpretation of Spearman's rank correlation is as follows:\n",
    "\n",
    "If ρ = 1, it indicates a perfect positive monotonic relationship. This means that as one variable increases, the other always increases as well, even if not linearly.\n",
    "\n",
    "If ρ = -1, it indicates a perfect negative monotonic relationship. This means that as one variable increases, the other always decreases, following a consistent trend.\n",
    "\n",
    "If ρ ≈ 0, it suggests little to no monotonic relationship between the two variables."
   ]
  },
  {
   "cell_type": "code",
   "execution_count": 2,
   "id": "947e15fc-ad48-4b34-ad1a-48736ca738f8",
   "metadata": {},
   "outputs": [
    {
     "name": "stdout",
     "output_type": "stream",
     "text": [
      "Spearman's Rank Correlation Coefficient: 0.9346202568200739\n"
     ]
    }
   ],
   "source": [
    "import numpy as np\n",
    "from scipy.stats import spearmanr\n",
    "\n",
    "# Example data (replace with your actual data)\n",
    "sleep_duration = [7, 5, 8, 6, 6, 7, 8]\n",
    "job_satisfaction = [8, 6, 9, 5, 7, 8, 9]\n",
    "\n",
    "# Calculate Spearman's rank correlation coefficient\n",
    "corr_coefficient, _ = spearmanr(sleep_duration, job_satisfaction)\n",
    "\n",
    "print(\"Spearman's Rank Correlation Coefficient:\", corr_coefficient)\n"
   ]
  },
  {
   "cell_type": "markdown",
   "id": "5e7e77be-6749-459b-990d-7b7fd7c67903",
   "metadata": {},
   "source": [
    "The output will provide the Spearman's rank correlation coefficient (rho). Interpret the result as follows:\n",
    "\n",
    "If ρ is close to 1, it suggests a strong positive monotonic relationship, indicating that as individuals get more sleep, their job satisfaction tends to increase monotonically.\n",
    "\n",
    "If ρ is close to -1, it suggests a strong negative monotonic relationship, indicating that as individuals get more sleep, their job satisfaction tends to decrease monotonically.\n",
    "\n",
    "If ρ is close to 0, it suggests little to no monotonic relationship between the two variables. In this case, there may not be a consistent trend in how sleep duration relates to job satisfaction.\n",
    "\n",
    "Keep in mind that Spearman's rank correlation is robust to outliers and does not require the assumption of linearity. However, it only captures monotonic relationships and may not be sensitive to other types of associations."
   ]
  },
  {
   "cell_type": "markdown",
   "id": "cd4ad3b9-06f0-4fcf-8eea-83ec431b7b12",
   "metadata": {},
   "source": [
    "Q3. Suppose you are conducting a study to examine the relationship between the number of hours of\n",
    "exercise per week and body mass index (BMI) in a sample of adults. You collected data on both variables\n",
    "for 50 participants. Calculate the Pearson correlation coefficient and the Spearman's rank correlation\n",
    "between these two variables and compare the results.\n",
    "\n",
    "Ans: To examine the relationship between the number of hours of exercise per week and body mass index (BMI) in a sample of adults, you can calculate both the Pearson correlation coefficient and the Spearman's rank correlation coefficient. These two measures will provide insights into the linear and monotonic relationships between the variables, respectively. "
   ]
  },
  {
   "cell_type": "code",
   "execution_count": 3,
   "id": "2946dd04-2791-4c94-9cc0-43686d8e6978",
   "metadata": {},
   "outputs": [
    {
     "name": "stdout",
     "output_type": "stream",
     "text": [
      "Pearson Correlation Coefficient: -0.6452829482381308\n",
      "Spearman's Rank Correlation Coefficient: -0.6399720554362738\n"
     ]
    }
   ],
   "source": [
    "import numpy as np\n",
    "from scipy.stats import pearsonr, spearmanr\n",
    "\n",
    "# Example data (replace with your actual data)\n",
    "exercise_hours = [3, 5, 2, 4, 6, 2, 1, 3, 4, 5, 3, 2, 1, 6, 4, 5, 3, 2, 6, 1,\n",
    "                  5, 3, 2, 4, 6, 3, 2, 1, 5, 4, 3, 2, 6, 4, 3, 2, 1, 5, 6, 3,\n",
    "                  4, 2, 1, 5, 3, 6, 4, 2]\n",
    "\n",
    "bmi = [26.1, 27.8, 28.5, 25.0, 24.3, 29.2, 30.0, 27.3, 26.9, 24.8, 26.5, 29.8,\n",
    "       31.2, 24.1, 25.6, 26.7, 27.0, 29.5, 23.5, 30.4, 25.3, 27.1, 28.9, 25.6,\n",
    "       23.9, 27.0, 28.8, 29.7, 24.2, 26.5, 27.4, 28.3, 23.0, 25.7, 23.8, 29.9,\n",
    "       28.4, 25.4, 25.9, 30.1, 27.6, 24.7, 27.2, 30.5, 31.1, 25.8, 28.2, 23.7]\n",
    "\n",
    "# Calculate Pearson correlation coefficient\n",
    "pearson_corr_coeff, _ = pearsonr(exercise_hours, bmi)\n",
    "\n",
    "# Calculate Spearman's rank correlation coefficient\n",
    "spearman_corr_coeff, _ = spearmanr(exercise_hours, bmi)\n",
    "\n",
    "print(\"Pearson Correlation Coefficient:\", pearson_corr_coeff)\n",
    "print(\"Spearman's Rank Correlation Coefficient:\", spearman_corr_coeff)"
   ]
  },
  {
   "cell_type": "markdown",
   "id": "68b4f796-3151-4457-b5da-dd17f7c78f23",
   "metadata": {},
   "source": [
    "The output will provide both the Pearson correlation coefficient and the Spearman's rank correlation coefficient. Compare the results as follows:\n",
    "\n",
    "If the Pearson correlation coefficient is close to 1, it suggests a strong positive linear relationship between exercise hours and BMI. This means that as the number of exercise hours per week increases, BMI tends to decrease linearly.\n",
    "\n",
    "If the Spearman's rank correlation coefficient is close to 1, it indicates a strong positive monotonic relationship between exercise hours and BMI. This means that as the number of exercise hours per week increases, BMI tends to decrease monotonically. The relationship may not be strictly linear but follows a consistent trend.\n",
    "\n",
    "If both coefficients are close to 0, it suggests little to no relationship between exercise hours and BMI.\n",
    "\n",
    "If the Pearson correlation coefficient is close to -1 or the Spearman's rank correlation coefficient is close to -1, it suggests a strong negative relationship, indicating that as the number of exercise hours per week increases, BMI tends to increase (which would be unusual but not impossible).\n",
    "\n",
    "By comparing these two correlation coefficients, you can gain insights into both the linear and monotonic aspects of the relationship between exercise hours and BMI in your dataset."
   ]
  },
  {
   "cell_type": "markdown",
   "id": "6e6d7dd7-e178-4555-b953-acf9a731c389",
   "metadata": {},
   "source": [
    "Q4. A researcher is interested in examining the relationship between the number of hours individuals\n",
    "spend watching television per day and their level of physical activity. The researcher collected data on\n",
    "both variables from a sample of 50 participants. Calculate the Pearson correlation coefficient between\n",
    "these two variables.\n",
    "\n",
    "Ans: To calculate the Pearson correlation coefficient between the number of hours individuals spend watching television per day and their level of physical activity, you can use Python and the pearsonr function from the SciPy library. The Pearson correlation coefficient, denoted as \"r,\" measures the strength and direction of the linear relationship between two continuous variables. "
   ]
  },
  {
   "cell_type": "code",
   "execution_count": 4,
   "id": "27be1af6-f7d3-43bc-bc05-be428a27ef5d",
   "metadata": {},
   "outputs": [
    {
     "name": "stdout",
     "output_type": "stream",
     "text": [
      "Pearson Correlation Coefficient: -0.9744286535988156\n"
     ]
    }
   ],
   "source": [
    "import numpy as np\n",
    "from scipy.stats import pearsonr\n",
    "\n",
    "# Example data (replace with your actual data)\n",
    "tv_hours = [2.5, 3.0, 4.5, 2.0, 5.5, 6.0, 1.5, 3.5, 2.0, 4.0, 1.0, 2.5, 3.0, 4.0, 5.0, 1.5, 2.0, 3.5, 2.5, 3.0, \n",
    "            4.0, 5.0, 1.0, 2.0, 2.5, 3.5, 4.0, 5.0, 1.5, 2.0, 3.5, 2.0, 2.5, 3.0, 4.0, 5.5, 1.5, 2.0, 2.5, 3.0, \n",
    "            3.5, 4.0, 5.0, 1.5, 2.0, 2.5, 3.0, 4.0]\n",
    "\n",
    "physical_activity = [3.0, 2.5, 1.5, 3.5, 1.0, 0.5, 4.0, 2.0, 3.5, 1.5, 4.5, 3.0, 2.5, 2.0, 1.0, 4.0, 3.5, 2.0, 3.0, 2.5, \n",
    "                    1.5, 1.0, 4.0, 3.5, 3.0, 2.0, 1.5, 1.0, 4.0, 3.5, 2.0, 3.0, 3.0, 2.5, 2.0, 1.0, 4.0, 3.5, 3.0, 2.5, \n",
    "                    2.0, 1.5, 1.0, 4.5, 4.0, 3.5, 3.0, 2.0]\n",
    "\n",
    "# Calculate Pearson correlation coefficient\n",
    "corr_coefficient, _ = pearsonr(tv_hours, physical_activity)\n",
    "\n",
    "print(\"Pearson Correlation Coefficient:\", corr_coefficient)"
   ]
  },
  {
   "cell_type": "markdown",
   "id": "497eeaa1-902e-4246-8c18-436c75d1d3af",
   "metadata": {},
   "source": [
    "The output will provide the Pearson correlation coefficient (r) between the number of hours spent watching television per day and the level of physical activity. This coefficient will measure the strength and direction of the linear relationship between these two variables.\n",
    "\n",
    "Interpretation:\n",
    "\n",
    "If the Pearson correlation coefficient is close to 1, it suggests a strong positive linear relationship. In this context, it would mean that as individuals spend more hours watching television per day, their level of physical activity tends to increase linearly.\n",
    "\n",
    "If the coefficient is close to -1, it indicates a strong negative linear relationship, implying that as individuals spend more hours watching television per day, their level of physical activity tends to decrease linearly.\n",
    "\n",
    "If the coefficient is close to 0, it suggests little to no linear relationship between the two variables. In this case, the number of hours spent watching television per day is not strongly associated with the level of physical activity.\n",
    "\n",
    "Please note that correlation does not imply causation, and other factors may be influencing the relationship between these two variables."
   ]
  },
  {
   "cell_type": "markdown",
   "id": "5b98864c-2b2f-4a9d-9aa4-f9b575de72fd",
   "metadata": {},
   "source": [
    "Q5. A survey was conducted to examine the relationship between age and preference for a particular\n",
    "brand of soft drink. The survey results are shown below:\n",
    "\n",
    "Age(Years)-> Preference\n",
    "\n",
    "25   ->            Coke\n",
    "\n",
    "42    ->           Pepsi\n",
    "\n",
    "37    ->               Mountain dew\n",
    "\n",
    "19    ->                 Coke\n",
    "\n",
    "31     ->               pepsi\n",
    "\n",
    "28      ->          Coke\n",
    "\n",
    "Ans: \n",
    "* Step 1: Data Preparation\n",
    "\n",
    "Organize the data into a structured format, such as a table with columns for \"Age\" and \"Soft Drink Preference.\"\n",
    "Ensure consistency in the naming of soft drink preferences (e.g., \"Coke\" and \"Pepsi\" should have consistent capitalization).\n",
    "\n",
    "* Step 2: Data Exploration\n",
    "\n",
    "Calculate basic statistics to understand the age distribution, such as the mean, median, and standard deviation of ages.\n",
    "Examine the frequency of each soft drink preference to see which brand is most preferred in the survey.\n",
    "\n",
    "* Step 3: Data Visualization\n",
    "\n",
    "Create visualizations to explore the relationship between age and soft drink preference. For example, you can create a bar chart or a pie chart to visualize the distribution of preferences.\n",
    "Consider creating a box plot or histogram of ages to understand their distribution.\n",
    "\n",
    "* Step 4: Analyze the Relationship\n",
    "\n",
    "You can calculate summary statistics (e.g., mean age) for each soft drink preference category to see if there are any noticeable differences.\n",
    "To explore the relationship further, you can use statistical tests such as chi-squared tests or contingency tables to assess if there is a significant association between age and soft drink preference. However, with a small dataset, the results may not be highly conclusive.\n",
    "\n",
    "* Step 5: Interpretation\n",
    "\n",
    "Interpret the results of your analysis. Depending on your findings, you can make conclusions about the observed relationships or lack thereof. For instance, you might determine if certain age groups tend to prefer one brand over another based on the survey data."
   ]
  },
  {
   "cell_type": "code",
   "execution_count": 5,
   "id": "c2cdbf80-2b62-45c4-8bf9-80f46f83bdec",
   "metadata": {},
   "outputs": [
    {
     "name": "stdout",
     "output_type": "stream",
     "text": [
      "Soft Drink Preference\n",
      "Coke            24.0\n",
      "Mountain Dew    37.0\n",
      "Pepsi           36.5\n",
      "Name: Age (Years), dtype: float64\n"
     ]
    }
   ],
   "source": [
    "import pandas as pd\n",
    "\n",
    "# Create a DataFrame from the provided data\n",
    "data = {'Age (Years)': [25, 42, 37, 19, 31, 28],\n",
    "        'Soft Drink Preference': ['Coke', 'Pepsi', 'Mountain Dew', 'Coke', 'Pepsi', 'Coke']}\n",
    "\n",
    "df = pd.DataFrame(data)\n",
    "\n",
    "# Calculate the mean age for each soft drink preference\n",
    "mean_age_by_preference = df.groupby('Soft Drink Preference')['Age (Years)'].mean()\n",
    "\n",
    "print(mean_age_by_preference)"
   ]
  },
  {
   "cell_type": "markdown",
   "id": "c6f416b2-9761-4e0d-b8b4-89ea1df00197",
   "metadata": {},
   "source": [
    "Q6. A company is interested in examining the relationship between the number of sales calls made per day\n",
    "and the number of sales made per week. The company collected data on both variables from a sample of\n",
    "30 sales representatives. Calculate the Pearson correlation coefficient between these two variables.\n",
    "\n",
    "Ans: To calculate the Pearson correlation coefficient between the number of sales calls made per day and the number of sales made per week for a sample of 30 sales representatives, you can use Python and the pearsonr function from the SciPy library. The Pearson correlation coefficient, denoted as \"r,\" measures the strength and direction of the linear relationship between two continuous variables. "
   ]
  },
  {
   "cell_type": "code",
   "execution_count": 6,
   "id": "c4c24cae-821f-4914-9274-900bf3ae73dd",
   "metadata": {},
   "outputs": [
    {
     "name": "stdout",
     "output_type": "stream",
     "text": [
      "Pearson Correlation Coefficient: 0.9644686527552352\n"
     ]
    }
   ],
   "source": [
    "import numpy as np\n",
    "from scipy.stats import pearsonr\n",
    "\n",
    "# Example data (replace with your actual data)\n",
    "sales_calls_per_day = [20, 25, 18, 30, 22, 15, 24, 28, 19, 32, 23, 17, 29, 21, 26, 27, 14, 31, 16, 20, 25, 18, 30, 22, 15, 24, 28, 19, 32, 23]\n",
    "sales_per_week = [120, 145, 110, 150, 130, 100, 140, 155, 115, 160, 125, 105, 158, 135, 147, 162, 98, 155, 108, 122, 147, 112, 152, 128, 102, 143, 157, 114, 162, 130]\n",
    "\n",
    "# Calculate Pearson correlation coefficient\n",
    "corr_coefficient, _ = pearsonr(sales_calls_per_day, sales_per_week)\n",
    "\n",
    "print(\"Pearson Correlation Coefficient:\", corr_coefficient)"
   ]
  },
  {
   "cell_type": "markdown",
   "id": "8ac72fb4-0011-445e-a7b7-eb1dc2ede597",
   "metadata": {},
   "source": [
    "The output will provide the Pearson correlation coefficient (r) between the number of sales calls made per day and the number of sales made per week. This coefficient will measure the strength and direction of the linear relationship between these two variables.\n",
    "\n",
    "Interpretation:\n",
    "\n",
    "If the Pearson correlation coefficient is close to 1, it suggests a strong positive linear relationship. In this context, it would mean that as the number of sales calls made per day increases, the number of sales made per week tends to increase linearly.\n",
    "\n",
    "If the coefficient is close to -1, it indicates a strong negative linear relationship, implying that as the number of sales calls made per day increases, the number of sales made per week tends to decrease linearly.\n",
    "\n",
    "If the coefficient is close to 0, it suggests little to no linear relationship between the two variables. In this case, the number of sales calls made per day is not strongly associated with the number of sales made per week.\n",
    "\n",
    "Please note that correlation does not imply causation, and other factors may be influencing the relationship between these two variables."
   ]
  }
 ],
 "metadata": {
  "kernelspec": {
   "display_name": "Python 3 (ipykernel)",
   "language": "python",
   "name": "python3"
  },
  "language_info": {
   "codemirror_mode": {
    "name": "ipython",
    "version": 3
   },
   "file_extension": ".py",
   "mimetype": "text/x-python",
   "name": "python",
   "nbconvert_exporter": "python",
   "pygments_lexer": "ipython3",
   "version": "3.10.8"
  }
 },
 "nbformat": 4,
 "nbformat_minor": 5
}
