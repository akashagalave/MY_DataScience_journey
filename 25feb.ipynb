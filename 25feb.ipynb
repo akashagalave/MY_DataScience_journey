{
 "cells": [
  {
   "cell_type": "markdown",
   "id": "7d3381a7-1afc-4f6b-8e4f-ae6453efb149",
   "metadata": {},
   "source": [
    "#  Consider following code to answer further questions:import pandas as pdcourse_name = [‘Data Science’, ‘Machine Learning’, ‘Big Data’, ‘Data Engineer’]duration = [2,3,6,4]df = pd.DataFrame(data = {‘course_name’ : course_name, ‘duration’ : duration})Q1. Write a code to print the data present in the second row of the dataframe, df."
   ]
  },
  {
   "cell_type": "code",
   "execution_count": 1,
   "id": "133e247a-1368-4b52-bcb2-eedffd5f3ec8",
   "metadata": {},
   "outputs": [
    {
     "name": "stdout",
     "output_type": "stream",
     "text": [
      "course_name    Machine Learning\n",
      "duration                      3\n",
      "Name: 1, dtype: object\n"
     ]
    }
   ],
   "source": [
    "import pandas as pd\n",
    "\n",
    "course_name = ['Data Science', 'Machine Learning', 'Big Data', 'Data Engineer']\n",
    "duration = [2, 3, 6, 4]\n",
    "\n",
    "df = pd.DataFrame(data={'course_name': course_name, 'duration': duration})\n",
    "\n",
    "# Print the data in the second row of the DataFrame\n",
    "second_row = df.iloc[1]\n",
    "print(second_row)\n"
   ]
  },
  {
   "cell_type": "code",
   "execution_count": null,
   "id": "42bf4b77-8133-45ed-a3f1-efe98246af62",
   "metadata": {},
   "outputs": [],
   "source": []
  },
  {
   "cell_type": "markdown",
   "id": "3daaee26-9bed-4424-815e-4c69b7fb633a",
   "metadata": {},
   "source": [
    "# Q2. What is the difference between the functions loc and iloc in pandas.DataFrame?"
   ]
  },
  {
   "cell_type": "markdown",
   "id": "9defa7ee-76ee-43d8-acfe-4ac1ec36cc31",
   "metadata": {},
   "source": [
    "In Pandas, both loc and iloc are indexer functions used to access and retrieve data from a DataFrame, but they have different ways of referencing and selecting data:\n",
    "\n",
    "loc:\n",
    "\n",
    "loc is label-based indexing, meaning it is used to access data by specifying row and column labels.\n",
    "It accepts label-based input, such as row and column names or boolean arrays.\n",
    "The syntax for accessing data with loc is df.loc[row_indexer, column_indexer].\n",
    "loc is inclusive of the end value when using slices or ranges.\n",
    "Example: df.loc[2:4, 'column_label'] will select rows 2, 3, and 4 along with the specified column.\n",
    "iloc:\n",
    "\n",
    "iloc is integer-based indexing, meaning it is used to access data by specifying row and column indices.\n",
    "It accepts integer-based input, such as integer indices or boolean arrays.\n",
    "The syntax for accessing data with iloc is df.iloc[row_indexer, column_indexer].\n",
    "iloc is exclusive of the end value when using slices or ranges.\n",
    "Example: df.iloc[2:4, 1] will select rows with indices 2 and 3, along with the column at index 1."
   ]
  },
  {
   "cell_type": "code",
   "execution_count": null,
   "id": "01b754c5-9848-4952-ae24-a42d8a657368",
   "metadata": {},
   "outputs": [],
   "source": []
  },
  {
   "cell_type": "markdown",
   "id": "2e6e4e5c-e53e-404e-b3c7-c2bca910b836",
   "metadata": {},
   "source": [
    "# Did you observe any difference in both the outputs? If so then explain it.Consider the below code to answer further questions:import pandas as pdimport numpy as npcolumns = ['column_1', 'column_2', 'column_3', 'column_4', 'column_5', 'column_6']indices = [1,2,3,4,5,6]#Creating a dataframe:df1 = pd.DataFrame(np.random.rand(6,6), columns = columns, index = indices)"
   ]
  },
  {
   "cell_type": "code",
   "execution_count": 2,
   "id": "b4608457-62eb-4eae-8f19-1d2a874d7f61",
   "metadata": {},
   "outputs": [
    {
     "name": "stdout",
     "output_type": "stream",
     "text": [
      "column_1    0.131323\n",
      "column_2    0.817575\n",
      "column_3    0.183794\n",
      "column_4    0.779571\n",
      "column_5    0.994853\n",
      "column_6    0.768860\n",
      "Name: 2, dtype: float64\n",
      "column_1    0.465875\n",
      "column_2    0.586835\n",
      "column_3    0.432543\n",
      "column_4    0.749129\n",
      "column_5    0.951112\n",
      "column_6    0.580982\n",
      "Name: 1, dtype: float64\n"
     ]
    }
   ],
   "source": [
    "import pandas as pd\n",
    "import numpy as np\n",
    "\n",
    "columns = ['column_1', 'column_2', 'column_3', 'column_4', 'column_5', 'column_6']\n",
    "indices = [1, 2, 3, 4, 5, 6]\n",
    "\n",
    "# Creating a DataFrame\n",
    "df1 = pd.DataFrame(np.random.rand(6, 6), columns=columns, index=indices)\n",
    "\n",
    "# Reindexing the DataFrame\n",
    "reindex = [3, 0, 1, 2]\n",
    "new_df = df1.reindex(reindex)\n",
    "\n",
    "# Accessing data using loc and iloc\n",
    "print(new_df.loc[2])\n",
    "print(new_df.iloc[2])\n"
   ]
  },
  {
   "cell_type": "code",
   "execution_count": null,
   "id": "fec56448-7862-43fa-b27b-9f6dad0ac95b",
   "metadata": {},
   "outputs": [],
   "source": []
  },
  {
   "cell_type": "markdown",
   "id": "369910f4-7144-4cbb-a553-07efa7dd9671",
   "metadata": {},
   "source": [
    "# Q4. Write a code to find the following statistical measurements for the above dataframe df1:(i) mean of each and every column present in the dataframe.(ii) standard deviation of column, ‘column_2’"
   ]
  },
  {
   "cell_type": "code",
   "execution_count": 3,
   "id": "cae310da-bb8b-499e-86a2-55f34ef80496",
   "metadata": {},
   "outputs": [
    {
     "name": "stdout",
     "output_type": "stream",
     "text": [
      "Mean of each column:\n",
      "column_1    0.473346\n",
      "column_2    0.684318\n",
      "column_3    0.484530\n",
      "column_4    0.635471\n",
      "column_5    0.780368\n",
      "column_6    0.558312\n",
      "dtype: float64\n",
      "\n",
      "Standard deviation of 'column_2': 0.20165502513562508\n"
     ]
    }
   ],
   "source": [
    "import pandas as pd\n",
    "import numpy as np\n",
    "\n",
    "columns = ['column_1', 'column_2', 'column_3', 'column_4', 'column_5', 'column_6']\n",
    "indices = [1, 2, 3, 4, 5, 6]\n",
    "\n",
    "# Creating a DataFrame\n",
    "df1 = pd.DataFrame(np.random.rand(6, 6), columns=columns, index=indices)\n",
    "\n",
    "# (i) Mean of each column\n",
    "column_means = df1.mean()\n",
    "print(\"Mean of each column:\")\n",
    "print(column_means)\n",
    "\n",
    "# (ii) Standard deviation of 'column_2'\n",
    "column_2_std_dev = df1['column_2'].std()\n",
    "print(\"\\nStandard deviation of 'column_2':\", column_2_std_dev)\n"
   ]
  },
  {
   "cell_type": "code",
   "execution_count": null,
   "id": "c53796a6-e6f4-42c8-8851-62c71ae44652",
   "metadata": {},
   "outputs": [],
   "source": []
  },
  {
   "cell_type": "markdown",
   "id": "56319137-f811-454b-a05b-71d8649459be",
   "metadata": {},
   "source": [
    "# Q5. Replace the data present in the second row of column, ‘column_2’ by a string variable then find themean of column, column_2.If you are getting errors in executing it then explain why.\n",
    "[Hint: To replace the data use df1.loc[] and equate this to string data of your choice.]"
   ]
  },
  {
   "cell_type": "code",
   "execution_count": 10,
   "id": "bd8040e6-d407-4c73-af18-1243d56a3844",
   "metadata": {},
   "outputs": [
    {
     "name": "stdout",
     "output_type": "stream",
     "text": [
      "Mean of 'column_2': 0.6269671874289248\n"
     ]
    }
   ],
   "source": [
    "import pandas as pd\n",
    "import numpy as np\n",
    "\n",
    "columns = ['column_1', 'column_2', 'column_3', 'column_4', 'column_5', 'column_6']\n",
    "indices = [1, 2, 3, 4, 5, 6]\n",
    "\n",
    "# Creating a DataFrame\n",
    "df1 = pd.DataFrame(np.random.rand(6, 6), columns=columns, index=indices)\n",
    "\n",
    "# Replacing data in the second row of 'column_2' with a string variable\n",
    "df1.loc[2, 'column_2'] = 'string_data'\n",
    "\n",
    "# Converting 'column_2' to numeric data type\n",
    "df1['column_2'] = pd.to_numeric(df1['column_2'], errors='coerce')\n",
    "\n",
    "# Finding the mean of 'column_2'\n",
    "column_2_mean = df1['column_2'].mean()\n",
    "print(\"Mean of 'column_2':\", column_2_mean)\n"
   ]
  },
  {
   "cell_type": "markdown",
   "id": "dadd9509-0bc2-456f-866e-d6a4a906acc7",
   "metadata": {},
   "source": [
    "In this updated code, after replacing the value in the second row of 'column_2' with a string, we convert the 'column_2' data to numeric type using pd.to_numeric() function with errors='coerce' parameter. This will convert the string value to NaN (Not a Number) for calculations. Then, we calculate the mean of 'column_2' which will exclude the non-numeric values."
   ]
  },
  {
   "cell_type": "code",
   "execution_count": null,
   "id": "9e518ff8-b8ae-47f4-801f-f857eaeee406",
   "metadata": {},
   "outputs": [],
   "source": []
  },
  {
   "cell_type": "markdown",
   "id": "7a73ef2a-92a2-459b-8d46-03a6e969b587",
   "metadata": {},
   "source": [
    "#  Q6. What do you understand about the windows function in pandas and list the types of windowsfunctions?"
   ]
  },
  {
   "cell_type": "markdown",
   "id": "c9e82a56-c81c-454b-88ec-e7b01b6c37d7",
   "metadata": {},
   "source": [
    "In pandas, window functions are used for performing calculations over a specific window or range of data in a DataFrame or Series. These functions allow you to perform operations such as aggregations, transformations, and rolling calculations on data within a defined window.\n",
    "\n",
    "There are several types of window functions available in pandas:\n",
    "\n",
    "Rolling Windows: Rolling windows operate on a specified number of consecutive values or a time-based window. Common rolling window functions include:\n",
    "\n",
    "rolling(): Calculates a rolling statistic, such as the mean or sum, over a specified window size.\n",
    "rolling().apply(): Applies a custom function to a rolling window.\n",
    "rolling().sum(), rolling().mean(), rolling().min(), rolling().max(), etc.: Calculate various statistics over a rolling window.\n",
    "Expanding Windows: Expanding windows consider all data points from the start of the data up to the current point. Common expanding window functions include:\n",
    "\n",
    "expanding(): Calculates an expanding statistic, such as the cumulative sum or mean, considering all data points up to the current point.\n",
    "expanding().apply(): Applies a custom function to an expanding window.\n",
    "expanding().sum(), expanding().mean(), expanding().min(), expanding().max(), etc.: Calculate various statistics over an expanding window.\n",
    "Exponentially Weighted Windows: Exponentially weighted windows assign different weights to each data point based on their relative recency. Common exponentially weighted window functions include:\n",
    "\n",
    "ewm(): Calculates an exponentially weighted statistic, such as the exponentially weighted moving average, considering a decay factor and the previous values."
   ]
  },
  {
   "cell_type": "code",
   "execution_count": null,
   "id": "4c83f455-1df3-4c4c-af8a-9649c266a759",
   "metadata": {},
   "outputs": [],
   "source": []
  },
  {
   "cell_type": "markdown",
   "id": "39988a42-5c22-446f-b928-3f82c2afafac",
   "metadata": {},
   "source": [
    "#  Q7. Write a code to print only the current month and year at the time of answering this question.\n",
    "[Hint: Use pandas.datetime function]"
   ]
  },
  {
   "cell_type": "code",
   "execution_count": 11,
   "id": "575d4f2e-be5a-4795-b8c8-b4e2647d9e70",
   "metadata": {},
   "outputs": [
    {
     "name": "stdout",
     "output_type": "stream",
     "text": [
      "Current Month: 7\n",
      "Current Year: 2023\n"
     ]
    }
   ],
   "source": [
    "from datetime import datetime\n",
    "\n",
    "# Get the current date and time\n",
    "current_datetime = datetime.now()\n",
    "\n",
    "# Extract the current month and year from the datetime object\n",
    "current_month = current_datetime.month\n",
    "current_year = current_datetime.year\n",
    "\n",
    "# Print the current month and year\n",
    "print(\"Current Month:\", current_month)\n",
    "print(\"Current Year:\", current_year)\n"
   ]
  },
  {
   "cell_type": "code",
   "execution_count": null,
   "id": "c06f06e3-7b1a-4aa0-adad-f03fcfb8b231",
   "metadata": {},
   "outputs": [],
   "source": []
  },
  {
   "cell_type": "markdown",
   "id": "06360e3e-43d6-448c-b428-a70f7b605c11",
   "metadata": {},
   "source": [
    "# Q8. Write a Python program that takes in two dates as input (in the format YYYY-MM-DD) andcalculates the difference between them in days, hours, and minutes using Pandas time delta. Theprogram should prompt the user to enter the dates and display the result."
   ]
  },
  {
   "cell_type": "code",
   "execution_count": 12,
   "id": "1d899ced-a9b9-435a-80b4-72ed0fb33c6d",
   "metadata": {},
   "outputs": [
    {
     "name": "stdin",
     "output_type": "stream",
     "text": [
      "Enter the first date (YYYY-MM-DD):  2003-6-5\n",
      "Enter the second date (YYYY-MM-DD):  2002-11-21\n"
     ]
    },
    {
     "name": "stdout",
     "output_type": "stream",
     "text": [
      "Difference between the dates:\n",
      "Days: -196\n",
      "Hours: 0\n",
      "Minutes: 0\n"
     ]
    }
   ],
   "source": [
    "import pandas as pd\n",
    "\n",
    "# Prompt the user to enter the dates\n",
    "date1 = input(\"Enter the first date (YYYY-MM-DD): \")\n",
    "date2 = input(\"Enter the second date (YYYY-MM-DD): \")\n",
    "\n",
    "# Convert the input dates to pandas datetime objects\n",
    "date1 = pd.to_datetime(date1)\n",
    "date2 = pd.to_datetime(date2)\n",
    "\n",
    "# Calculate the difference between the dates\n",
    "time_difference = date2 - date1\n",
    "\n",
    "# Extract the days, hours, and minutes from the time difference\n",
    "days = time_difference.days\n",
    "hours = time_difference.seconds // 3600\n",
    "minutes = (time_difference.seconds % 3600) // 60\n",
    "\n",
    "# Display the result\n",
    "print(\"Difference between the dates:\")\n",
    "print(\"Days:\", days)\n",
    "print(\"Hours:\", hours)\n",
    "print(\"Minutes:\", minutes)\n"
   ]
  },
  {
   "cell_type": "code",
   "execution_count": null,
   "id": "3a06acdb-6dd3-4834-aa3b-4075cb60ca52",
   "metadata": {},
   "outputs": [],
   "source": []
  },
  {
   "cell_type": "markdown",
   "id": "db99b1fd-9ee1-4bcd-a2af-9d7ecab79ac0",
   "metadata": {},
   "source": [
    "# Q9. Write a Python program that reads a CSV file containing categorical data and converts a specifiedcolumn to a categorical data type. The program should prompt the user to enter the file path, columnname, and category order, and then display the sorted data."
   ]
  },
  {
   "cell_type": "code",
   "execution_count": 20,
   "id": "4882dee1-887b-4782-9c75-54f6b859ba28",
   "metadata": {},
   "outputs": [
    {
     "name": "stdin",
     "output_type": "stream",
     "text": [
      "Enter the file path:  stud.csv\n",
      "Enter the column name to convert to categorical:  gender\n",
      "Enter the category order (comma-separated values):  'male','female'\n"
     ]
    },
    {
     "name": "stdout",
     "output_type": "stream",
     "text": [
      "Sorted Data:\n",
      "    gender race_ethnicity parental_level_of_education         lunch  \\\n",
      "0      NaN        group B           bachelor's degree      standard   \n",
      "1      NaN        group C                some college      standard   \n",
      "2      NaN        group B             master's degree      standard   \n",
      "3      NaN        group A          associate's degree  free/reduced   \n",
      "4      NaN        group C                some college      standard   \n",
      "..     ...            ...                         ...           ...   \n",
      "995    NaN        group E             master's degree      standard   \n",
      "996    NaN        group C                 high school  free/reduced   \n",
      "997    NaN        group C                 high school  free/reduced   \n",
      "998    NaN        group D                some college      standard   \n",
      "999    NaN        group D                some college  free/reduced   \n",
      "\n",
      "    test_preparation_course  math_score  reading_score  writing_score  \n",
      "0                      none          72             72             74  \n",
      "1                 completed          69             90             88  \n",
      "2                      none          90             95             93  \n",
      "3                      none          47             57             44  \n",
      "4                      none          76             78             75  \n",
      "..                      ...         ...            ...            ...  \n",
      "995               completed          88             99             95  \n",
      "996                    none          62             55             55  \n",
      "997               completed          59             71             65  \n",
      "998               completed          68             78             77  \n",
      "999                    none          77             86             86  \n",
      "\n",
      "[1000 rows x 8 columns]\n"
     ]
    }
   ],
   "source": [
    "import pandas as pd\n",
    "\n",
    "# Prompt the user to enter the file path\n",
    "file_path = input(\"Enter the file path: \")\n",
    "\n",
    "# Read the CSV file\n",
    "df = pd.read_csv(file_path)\n",
    "\n",
    "# Prompt the user to enter the column name to convert\n",
    "column_name = input(\"Enter the column name to convert to categorical: \")\n",
    "\n",
    "# Prompt the user to enter the category order\n",
    "category_order = input(\"Enter the category order (comma-separated values): \")\n",
    "\n",
    "# Convert the specified column to categorical data type\n",
    "df[column_name] = pd.Categorical(df[column_name], categories=category_order.split(','), ordered=True)\n",
    "\n",
    "# Sort the data by the specified column\n",
    "sorted_df = df.sort_values(by=column_name)\n",
    "\n",
    "# Display the sorted data\n",
    "print(\"Sorted Data:\")\n",
    "print(sorted_df)\n"
   ]
  },
  {
   "cell_type": "code",
   "execution_count": null,
   "id": "dad938a8-14f0-4dc8-8425-3363309323c4",
   "metadata": {},
   "outputs": [],
   "source": []
  },
  {
   "cell_type": "code",
   "execution_count": null,
   "id": "348f8b8a-6aa4-459c-b1e1-64b1636795ff",
   "metadata": {},
   "outputs": [],
   "source": []
  },
  {
   "cell_type": "markdown",
   "id": "73eec15f-5709-4433-bcce-fcd6c8d2e0d5",
   "metadata": {},
   "source": [
    "#  Q10. Write a Python program that reads a CSV file containing sales data for different products andvisualizes the data using a stacked bar chart to show the sales of each product category over time. Theprogram should prompt the user to enter the file path and display the chart."
   ]
  },
  {
   "cell_type": "code",
   "execution_count": null,
   "id": "2c9074f3-c40c-4d62-9f69-c5911826d26e",
   "metadata": {},
   "outputs": [],
   "source": [
    "import pandas as pd\n",
    "import matplotlib.pyplot as plt\n",
    "\n",
    "# Prompt the user to enter the file path\n",
    "file_path = input(\"Enter the file path: \")\n",
    "\n",
    "# Read the CSV file\n",
    "df = pd.read_csv(file_path)\n",
    "\n",
    "# Convert the 'Date' column to datetime type\n",
    "df['Date'] = pd.to_datetime(df['Date'])\n",
    "\n",
    "# Group the data by product category and date, and calculate the total sales\n",
    "grouped_df = df.groupby(['Category', 'Date']).sum().reset_index()\n",
    "\n",
    "# Pivot the data to create a table with product categories as columns and date as index\n",
    "pivot_df = grouped_df.pivot(index='Date', columns='Category', values='Sales')\n",
    "\n",
    "# Plot the stacked bar chart\n",
    "pivot_df.plot(kind='bar', stacked=True)\n",
    "\n",
    "# Set labels and title\n",
    "plt.xlabel('Date')\n",
    "plt.ylabel('Sales')\n",
    "plt.title('Sales of Product Categories Over Time')\n",
    "\n",
    "# Show the chart\n",
    "plt.show()\n"
   ]
  },
  {
   "cell_type": "code",
   "execution_count": null,
   "id": "c2814729-5d5e-4837-b58b-efeb6b235d4b",
   "metadata": {},
   "outputs": [],
   "source": []
  },
  {
   "cell_type": "markdown",
   "id": "f06f925f-47a9-4937-95ef-b7428f7deea4",
   "metadata": {},
   "source": [
    " # Q11. You are given a CSV file containing student data that includes the student ID and their test score. Writea Python program that reads the CSV file, calculates the mean, median, and mode ofthe test scores, anddisplays the results in a table.The program should do the followingMI Prompt the user to enter the file path of the CSV file containing the student dataRI Read the CSV file into a Pandas DataFrameRI Calculate the mean, median, and mode of the test scores using Pandas toolsRI Display the mean, median, and mode in a table.Assume the CSV file contains the following columnsMI Student ID: The ID of the studentRI Test Score: The score of the student's test.Example usage of the program:Enter the file path of the CSV file containing the student data: student_data.csv+-----------+--------+| Statistic | Value+-----------+--------+| Mean | 79.6 || Median | 82 || Mode | 85, 90 |+-----------+--------+Assume that the CSV file student_data.csv contains the following data:Student ID,Test Score1,852,903,804,755,856,827,788,859,9010,85The program should calculate the mean, median, and mode of the test scores and display the resultsin a table."
   ]
  },
  {
   "cell_type": "code",
   "execution_count": null,
   "id": "0fe97493-d054-4aa5-b03b-8105ca612d9e",
   "metadata": {},
   "outputs": [],
   "source": [
    "import pandas as pd\n",
    "from tabulate import tabulate\n",
    "\n",
    "# Prompt the user to enter the file path\n",
    "file_path = input(\"Enter the file path of the CSV file containing the student data: \")\n",
    "\n",
    "# Read the CSV file into a Pandas DataFrame\n",
    "df = pd.read_csv(file_path)\n",
    "\n",
    "# Calculate the mean, median, and mode of the test scores\n",
    "mean_score = df['Test Score'].mean()\n",
    "median_score = df['Test Score'].median()\n",
    "mode_scores = df['Test Score'].mode()\n",
    "\n",
    "# Create a table to display the results\n",
    "results_table = [\n",
    "    ['Mean', mean_score],\n",
    "    ['Median', median_score],\n",
    "    ['Mode', ', '.join(map(str, mode_scores))]\n",
    "]\n",
    "\n",
    "# Display the results table\n",
    "print(tabulate(results_table, headers=['Statistic', 'Value'], tablefmt='grid'))\n"
   ]
  },
  {
   "cell_type": "code",
   "execution_count": null,
   "id": "551dc4fe-00bd-4369-82a4-afeaef938569",
   "metadata": {},
   "outputs": [],
   "source": []
  }
 ],
 "metadata": {
  "kernelspec": {
   "display_name": "Python 3 (ipykernel)",
   "language": "python",
   "name": "python3"
  },
  "language_info": {
   "codemirror_mode": {
    "name": "ipython",
    "version": 3
   },
   "file_extension": ".py",
   "mimetype": "text/x-python",
   "name": "python",
   "nbconvert_exporter": "python",
   "pygments_lexer": "ipython3",
   "version": "3.10.8"
  }
 },
 "nbformat": 4,
 "nbformat_minor": 5
}
