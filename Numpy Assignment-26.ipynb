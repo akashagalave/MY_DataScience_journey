{
 "cells": [
  {
   "cell_type": "code",
   "execution_count": 2,
   "id": "a9348987-0cd3-47df-bca1-8c3a4217beb9",
   "metadata": {},
   "outputs": [],
   "source": [
    "import numpy as np\n",
    "list_ = [ '1' , '2' , '3' , '4' , '5' ]\n",
    "array_list = np.array(object = list_)"
   ]
  },
  {
   "cell_type": "code",
   "execution_count": 3,
   "id": "ab000dfb-fa94-4366-86a8-39b569a4299d",
   "metadata": {},
   "outputs": [
    {
     "data": {
      "text/plain": [
       "array(['1', '2', '3', '4', '5'], dtype='<U1')"
      ]
     },
     "execution_count": 3,
     "metadata": {},
     "output_type": "execute_result"
    }
   ],
   "source": [
    "array_list"
   ]
  },
  {
   "cell_type": "markdown",
   "id": "8713d7e9-76fa-44d6-9acf-c60f9963e08e",
   "metadata": {},
   "source": [
    "Q1. Is there any difference in the data type of variables list_ and array_list? If there is then write a code\n",
    "to print the data types of both the variables.\n",
    "\n",
    "Ans: The datatypes of variable of the list is \"string\" and the datatype of the variable of the array_list is \"numpy.str_\".\n",
    "\n",
    "dtype='<U1' is \"a little-endian 1 character string or unicode.\" "
   ]
  },
  {
   "cell_type": "code",
   "execution_count": 14,
   "id": "dfe50abb-741a-4a2d-b830-1dae2ba400e0",
   "metadata": {},
   "outputs": [],
   "source": [
    "def datatype1(x):\n",
    "    if type(x)==list:\n",
    "        return type(list_[0])\n",
    "    return x.dtype"
   ]
  },
  {
   "cell_type": "code",
   "execution_count": 15,
   "id": "030ee3bd-a912-4e06-9be0-4851457155a9",
   "metadata": {},
   "outputs": [
    {
     "data": {
      "text/plain": [
       "dtype('<U1')"
      ]
     },
     "execution_count": 15,
     "metadata": {},
     "output_type": "execute_result"
    }
   ],
   "source": [
    "datatype1(array_list)"
   ]
  },
  {
   "cell_type": "markdown",
   "id": "f7c6f903-dbaa-47ab-8cee-0452c32f639d",
   "metadata": {},
   "source": [
    "datatype1(list_)"
   ]
  },
  {
   "cell_type": "markdown",
   "id": "0c1beb34-0cda-4ac3-b176-642bba1c460c",
   "metadata": {},
   "source": [
    "Q2. Write a code to print the data type of each and every element of both the variables list_ and\n",
    "arra_list."
   ]
  },
  {
   "cell_type": "code",
   "execution_count": 23,
   "id": "713cea42-c9aa-4b0c-bc5a-4bc7ff9b6b12",
   "metadata": {
    "tags": []
   },
   "outputs": [],
   "source": [
    "def datatype1(x):\n",
    "    list1=[]\n",
    "    for i in x:\n",
    "        list1.append(type(i))\n",
    "    return list1"
   ]
  },
  {
   "cell_type": "code",
   "execution_count": 24,
   "id": "3c804412-8437-4d1c-b6c3-7b8360b9304d",
   "metadata": {},
   "outputs": [
    {
     "data": {
      "text/plain": [
       "[numpy.str_, numpy.str_, numpy.str_, numpy.str_, numpy.str_]"
      ]
     },
     "execution_count": 24,
     "metadata": {},
     "output_type": "execute_result"
    }
   ],
   "source": [
    "datatype1(array_list)"
   ]
  },
  {
   "cell_type": "code",
   "execution_count": 26,
   "id": "c43b2816-e312-4631-bf8f-9fcd8b0e4ff7",
   "metadata": {},
   "outputs": [
    {
     "data": {
      "text/plain": [
       "[str, str, str, str, str]"
      ]
     },
     "execution_count": 26,
     "metadata": {},
     "output_type": "execute_result"
    }
   ],
   "source": [
    "datatype1(list_)"
   ]
  },
  {
   "cell_type": "markdown",
   "id": "993fc377-a170-4f4d-bdc8-b562fb54296b",
   "metadata": {},
   "source": [
    "Q3. Considering the following changes in the variable, array_list:\n",
    "    \n",
    "array_list = np.array(object = list_, dtype = int)\n",
    "\n",
    "Will there be any difference in the data type of the elements present in both the variables, list_ and\n",
    "arra_list? If so then print the data types of each and every element present in both the variables, list_\n",
    "and arra_list."
   ]
  },
  {
   "cell_type": "code",
   "execution_count": 28,
   "id": "00a7fe20-455d-4175-8edd-a1dcfe7bd6a3",
   "metadata": {},
   "outputs": [],
   "source": [
    "array_list = np.array(object = list_, dtype = int)"
   ]
  },
  {
   "cell_type": "code",
   "execution_count": 29,
   "id": "af0950df-601c-42f9-9936-00c7c00c75d4",
   "metadata": {},
   "outputs": [
    {
     "data": {
      "text/plain": [
       "array([1, 2, 3, 4, 5])"
      ]
     },
     "execution_count": 29,
     "metadata": {},
     "output_type": "execute_result"
    }
   ],
   "source": [
    "array_list"
   ]
  },
  {
   "cell_type": "code",
   "execution_count": 30,
   "id": "1bed751a-9427-4a29-aa6f-b1b06f715442",
   "metadata": {},
   "outputs": [
    {
     "data": {
      "text/plain": [
       "['1', '2', '3', '4', '5']"
      ]
     },
     "execution_count": 30,
     "metadata": {},
     "output_type": "execute_result"
    }
   ],
   "source": [
    "list_"
   ]
  },
  {
   "cell_type": "markdown",
   "id": "9d9ef57b-9265-46f8-b16d-3241ae75523f",
   "metadata": {},
   "source": [
    "Yes, there is a difference. The datatype of the list_ is \"string\" and the datatype of the array_list is integers now."
   ]
  },
  {
   "cell_type": "code",
   "execution_count": 31,
   "id": "6adb18ca-7ffe-41a0-ae45-f7bf221b6dcb",
   "metadata": {},
   "outputs": [],
   "source": [
    "def datatype1(x):\n",
    "    list1=[]\n",
    "    for i in x:\n",
    "        list1.append(type(i))\n",
    "    return list1"
   ]
  },
  {
   "cell_type": "code",
   "execution_count": 32,
   "id": "7ceaba68-189c-459b-a534-b9802431be46",
   "metadata": {},
   "outputs": [
    {
     "data": {
      "text/plain": [
       "[numpy.int64, numpy.int64, numpy.int64, numpy.int64, numpy.int64]"
      ]
     },
     "execution_count": 32,
     "metadata": {},
     "output_type": "execute_result"
    }
   ],
   "source": [
    "datatype1(array_list)"
   ]
  },
  {
   "cell_type": "code",
   "execution_count": 33,
   "id": "393fd53c-0ccc-4fad-98be-6600188622bd",
   "metadata": {},
   "outputs": [
    {
     "data": {
      "text/plain": [
       "[str, str, str, str, str]"
      ]
     },
     "execution_count": 33,
     "metadata": {},
     "output_type": "execute_result"
    }
   ],
   "source": [
    "datatype1(list_)"
   ]
  },
  {
   "cell_type": "code",
   "execution_count": 34,
   "id": "251a2c9b-dae0-4f00-a98e-5334edd5233b",
   "metadata": {},
   "outputs": [],
   "source": [
    "import numpy as np\n",
    "num_list = [ [ 1 , 2 , 3 ] , [ 4 , 5 , 6 ] ]\n",
    "num_array = np.array(object = num_list)"
   ]
  },
  {
   "cell_type": "code",
   "execution_count": 35,
   "id": "48b6d460-ace8-4bd5-b5ff-3db678800c24",
   "metadata": {},
   "outputs": [
    {
     "data": {
      "text/plain": [
       "[[1, 2, 3], [4, 5, 6]]"
      ]
     },
     "execution_count": 35,
     "metadata": {},
     "output_type": "execute_result"
    }
   ],
   "source": [
    "num_list"
   ]
  },
  {
   "cell_type": "code",
   "execution_count": 46,
   "id": "d3a1b8a0-e25f-4558-a0ec-4976070e9088",
   "metadata": {},
   "outputs": [
    {
     "data": {
      "text/plain": [
       "array([[1, 2, 3],\n",
       "       [4, 5, 6]])"
      ]
     },
     "execution_count": 46,
     "metadata": {},
     "output_type": "execute_result"
    }
   ],
   "source": [
    "num_array"
   ]
  },
  {
   "cell_type": "markdown",
   "id": "c26167ee-70c6-4f0a-829c-840d9e029dc3",
   "metadata": {},
   "source": [
    "Q4. Write a code to find the following characteristics of variable, num_array:\n",
    "(i) shape\n",
    "(ii) size"
   ]
  },
  {
   "cell_type": "code",
   "execution_count": 37,
   "id": "ebd248b1-bf9a-4da7-9dd7-7e38058fc730",
   "metadata": {},
   "outputs": [
    {
     "data": {
      "text/plain": [
       "(2, 3)"
      ]
     },
     "execution_count": 37,
     "metadata": {},
     "output_type": "execute_result"
    }
   ],
   "source": [
    "num_array.shape"
   ]
  },
  {
   "cell_type": "code",
   "execution_count": 38,
   "id": "33609eec-59de-42a4-8ad3-db4fe7418f28",
   "metadata": {},
   "outputs": [
    {
     "data": {
      "text/plain": [
       "6"
      ]
     },
     "execution_count": 38,
     "metadata": {},
     "output_type": "execute_result"
    }
   ],
   "source": [
    "num_array.size"
   ]
  },
  {
   "cell_type": "markdown",
   "id": "b6e59ee0-40c6-42f6-bbe5-e71cafa4a251",
   "metadata": {},
   "source": [
    "Q5. Write a code to create numpy array of 3*3 matrix containing zeros only, using a numpy array\n",
    "creation function.\n",
    "\n",
    "[Hint: The size of the array will be 9 and the shape will be (3,3).]"
   ]
  },
  {
   "cell_type": "code",
   "execution_count": 42,
   "id": "10da4407-6185-460b-891d-5201286077dd",
   "metadata": {},
   "outputs": [
    {
     "data": {
      "text/plain": [
       "array([[0., 0., 0.],\n",
       "       [0., 0., 0.],\n",
       "       [0., 0., 0.]])"
      ]
     },
     "execution_count": 42,
     "metadata": {},
     "output_type": "execute_result"
    }
   ],
   "source": [
    "np.zeros((3,3))"
   ]
  },
  {
   "cell_type": "markdown",
   "id": "6896031f-ba07-40b3-9a74-37c58e5ae55f",
   "metadata": {},
   "source": [
    "Q6. Create an identity matrix of shape (5,5) using numpy functions?\n",
    "\n",
    "[Hint: An identity matrix is a matrix containing 1 diagonally and other elements will be 0.]"
   ]
  },
  {
   "cell_type": "code",
   "execution_count": 44,
   "id": "939caa20-f2b1-4654-a9b8-39b411896b98",
   "metadata": {},
   "outputs": [
    {
     "data": {
      "text/plain": [
       "array([[1., 0., 0., 0., 0.],\n",
       "       [0., 1., 0., 0., 0.],\n",
       "       [0., 0., 1., 0., 0.],\n",
       "       [0., 0., 0., 1., 0.],\n",
       "       [0., 0., 0., 0., 1.]])"
      ]
     },
     "execution_count": 44,
     "metadata": {},
     "output_type": "execute_result"
    }
   ],
   "source": [
    "np.identity(5)"
   ]
  },
  {
   "cell_type": "code",
   "execution_count": 45,
   "id": "e2d1199c-ffe1-40f9-a26d-e5b3dbe5063f",
   "metadata": {},
   "outputs": [
    {
     "data": {
      "text/plain": [
       "array([[1., 0., 0., 0., 0.],\n",
       "       [0., 1., 0., 0., 0.],\n",
       "       [0., 0., 1., 0., 0.],\n",
       "       [0., 0., 0., 1., 0.],\n",
       "       [0., 0., 0., 0., 1.]])"
      ]
     },
     "execution_count": 45,
     "metadata": {},
     "output_type": "execute_result"
    }
   ],
   "source": [
    "np.eye(5)"
   ]
  }
 ],
 "metadata": {
  "kernelspec": {
   "display_name": "Python 3 (ipykernel)",
   "language": "python",
   "name": "python3"
  },
  "language_info": {
   "codemirror_mode": {
    "name": "ipython",
    "version": 3
   },
   "file_extension": ".py",
   "mimetype": "text/x-python",
   "name": "python",
   "nbconvert_exporter": "python",
   "pygments_lexer": "ipython3",
   "version": "3.10.8"
  }
 },
 "nbformat": 4,
 "nbformat_minor": 5
}
