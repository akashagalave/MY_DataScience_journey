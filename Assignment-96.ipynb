{
 "cells": [
  {
   "cell_type": "markdown",
   "id": "61cd10cd-23ed-4d9d-b3ac-f0435ac735a1",
   "metadata": {},
   "source": [
    "Q1. What is different data structures used in Tensorflow ? Give some examples\n",
    "\n",
    "Ans: TensorFlow, a popular open-source machine learning framework, provides several different data structures to efficiently handle and manipulate data for building and training machine learning models. Some of the key data structures used in TensorFlow include:\n",
    "Tensors : Tensors are the fundamental building blocks in TensorFlow. They are n-dimensional arrays that represent the data in the computation graph. Tensors can be scalars (0-dimensional), vectors (1-dimensional), matrices (2-dimensional), or higher-dimensional arrays. TensorFlow tensors can be created using functions like tf.constant(), tf.Variable(), and by performing various operations on existing tensors."
   ]
  },
  {
   "cell_type": "code",
   "execution_count": 1,
   "id": "933360ad-43e8-427c-8b5c-8c22616cc92a",
   "metadata": {},
   "outputs": [
    {
     "name": "stderr",
     "output_type": "stream",
     "text": [
      "2024-04-14 08:54:51.896622: I external/local_tsl/tsl/cuda/cudart_stub.cc:32] Could not find cuda drivers on your machine, GPU will not be used.\n",
      "2024-04-14 08:54:51.901234: I external/local_tsl/tsl/cuda/cudart_stub.cc:32] Could not find cuda drivers on your machine, GPU will not be used.\n",
      "2024-04-14 08:54:51.975307: I tensorflow/core/platform/cpu_feature_guard.cc:210] This TensorFlow binary is optimized to use available CPU instructions in performance-critical operations.\n",
      "To enable the following instructions: AVX2 FMA, in other operations, rebuild TensorFlow with the appropriate compiler flags.\n",
      "2024-04-14 08:54:53.141829: W tensorflow/compiler/tf2tensorrt/utils/py_utils.cc:38] TF-TRT Warning: Could not find TensorRT\n"
     ]
    }
   ],
   "source": [
    "import tensorflow as tf\n",
    "\n",
    "# Creating tensors\n",
    "scalar = tf.constant(5)\n",
    "vector = tf.constant([1, 2, 3])\n",
    "matrix = tf.constant([[1, 2], [3, 4]])"
   ]
  },
  {
   "cell_type": "code",
   "execution_count": 2,
   "id": "74d1ff3c-7ef5-4f70-83db-bfac6057f892",
   "metadata": {},
   "outputs": [
    {
     "data": {
      "text/plain": [
       "<tf.Tensor: shape=(), dtype=int32, numpy=5>"
      ]
     },
     "execution_count": 2,
     "metadata": {},
     "output_type": "execute_result"
    }
   ],
   "source": [
    "scalar"
   ]
  },
  {
   "cell_type": "code",
   "execution_count": 3,
   "id": "a211f50d-d5bc-4170-ad17-9c87662b9a38",
   "metadata": {},
   "outputs": [
    {
     "data": {
      "text/plain": [
       "<tf.Tensor: shape=(3,), dtype=int32, numpy=array([1, 2, 3], dtype=int32)>"
      ]
     },
     "execution_count": 3,
     "metadata": {},
     "output_type": "execute_result"
    }
   ],
   "source": [
    "vector"
   ]
  },
  {
   "cell_type": "code",
   "execution_count": 4,
   "id": "7906c016-7f03-4286-914b-344520ee2431",
   "metadata": {},
   "outputs": [
    {
     "data": {
      "text/plain": [
       "<tf.Tensor: shape=(2, 2), dtype=int32, numpy=\n",
       "array([[1, 2],\n",
       "       [3, 4]], dtype=int32)>"
      ]
     },
     "execution_count": 4,
     "metadata": {},
     "output_type": "execute_result"
    }
   ],
   "source": [
    "matrix"
   ]
  },
  {
   "cell_type": "markdown",
   "id": "0833e03e-1ad1-47ef-ad49-13d92051b619",
   "metadata": {},
   "source": [
    "2) Variables: TensorFlow Variables are special tensors that can hold mutable state. They are often used to store model parameters that need to be learned during training. Variables are typically initialized with some initial values and then updated through operations."
   ]
  },
  {
   "cell_type": "code",
   "execution_count": 5,
   "id": "ae84947d-6cff-434f-b48a-0f8282a2ed94",
   "metadata": {},
   "outputs": [],
   "source": [
    "# Creating a variable\n",
    "initial_value = tf.random.normal(shape=(3, 3))\n",
    "model_weights = tf.Variable(initial_value)"
   ]
  },
  {
   "cell_type": "code",
   "execution_count": 6,
   "id": "4e8f1862-2c40-4451-b64b-5649882e7478",
   "metadata": {},
   "outputs": [
    {
     "data": {
      "text/plain": [
       "<tf.Tensor: shape=(3, 3), dtype=float32, numpy=\n",
       "array([[-2.5938838 ,  0.7110692 , -0.8549162 ],\n",
       "       [ 1.5497228 , -0.5652257 ,  0.35108006],\n",
       "       [-0.07685102,  1.7943174 ,  0.3413693 ]], dtype=float32)>"
      ]
     },
     "execution_count": 6,
     "metadata": {},
     "output_type": "execute_result"
    }
   ],
   "source": [
    "initial_value"
   ]
  },
  {
   "cell_type": "code",
   "execution_count": 7,
   "id": "8aeee550-ce52-4521-a188-c9d0ed6517af",
   "metadata": {},
   "outputs": [
    {
     "data": {
      "text/plain": [
       "<tf.Variable 'Variable:0' shape=(3, 3) dtype=float32, numpy=\n",
       "array([[-2.5938838 ,  0.7110692 , -0.8549162 ],\n",
       "       [ 1.5497228 , -0.5652257 ,  0.35108006],\n",
       "       [-0.07685102,  1.7943174 ,  0.3413693 ]], dtype=float32)>"
      ]
     },
     "execution_count": 7,
     "metadata": {},
     "output_type": "execute_result"
    }
   ],
   "source": [
    "model_weights"
   ]
  },
  {
   "cell_type": "markdown",
   "id": "c434aa3b-495b-4c41-a323-fcf6fec9d0b8",
   "metadata": {},
   "source": [
    "3) Constants: Constants are tensors with fixed values that remain unchanged throughout the computation. They are often used for providing constant inputs or values to the computation graph."
   ]
  },
  {
   "cell_type": "code",
   "execution_count": 8,
   "id": "1c7320e1-843c-40c1-89f3-60c9711d584a",
   "metadata": {},
   "outputs": [],
   "source": [
    "# Creating a constant\n",
    "pi = tf.constant(3.14159)"
   ]
  },
  {
   "cell_type": "code",
   "execution_count": 9,
   "id": "f776d8da-71c0-4c90-92d4-b84d749579ea",
   "metadata": {},
   "outputs": [
    {
     "data": {
      "text/plain": [
       "<tf.Tensor: shape=(), dtype=float32, numpy=3.14159>"
      ]
     },
     "execution_count": 9,
     "metadata": {},
     "output_type": "execute_result"
    }
   ],
   "source": [
    "pi"
   ]
  },
  {
   "cell_type": "markdown",
   "id": "08f1555a-1d8e-41b9-97d8-133ae2219c9b",
   "metadata": {},
   "source": [
    "4) Placeholders (Deprecated): In older versions of TensorFlow (before TensorFlow 2.0), placeholders were used to feed data into the computation graph during training. However, placeholders have been deprecated in favor of the new tf.data API and eager execution in TensorFlow 2.0 and later.\n",
    "\n",
    "5) Sparse Tensors: Sparse tensors are designed to efficiently represent tensors with a large number of zero elements. They are useful for tasks involving sparse data, such as natural language processing or certain types of neural networks."
   ]
  },
  {
   "cell_type": "code",
   "execution_count": 10,
   "id": "326bb4d2-f76c-4e70-9d0a-6835b765f0a4",
   "metadata": {},
   "outputs": [],
   "source": [
    "indices = [[0, 1], [1, 2]]\n",
    "values = [1, 2]\n",
    "shape = [3, 4]\n",
    "sparse_tensor = tf.SparseTensor(indices, values, shape)"
   ]
  },
  {
   "cell_type": "code",
   "execution_count": 11,
   "id": "c9189833-960d-410a-94b4-ee0843fc5c5c",
   "metadata": {},
   "outputs": [
    {
     "data": {
      "text/plain": [
       "SparseTensor(indices=tf.Tensor(\n",
       "[[0 1]\n",
       " [1 2]], shape=(2, 2), dtype=int64), values=tf.Tensor([1 2], shape=(2,), dtype=int32), dense_shape=tf.Tensor([3 4], shape=(2,), dtype=int64))"
      ]
     },
     "execution_count": 11,
     "metadata": {},
     "output_type": "execute_result"
    }
   ],
   "source": [
    "sparse_tensor"
   ]
  },
  {
   "cell_type": "markdown",
   "id": "89adf111-ca53-4109-872c-e88f4962d63f",
   "metadata": {},
   "source": [
    "6) Ragged Tensors: Ragged tensors are used to represent tensors with varying lengths along one or more dimensions. They are useful for sequences or nested data structures."
   ]
  },
  {
   "cell_type": "code",
   "execution_count": 12,
   "id": "4c86d17f-310f-4bc8-b791-41cd62ad158a",
   "metadata": {},
   "outputs": [],
   "source": [
    "# Creating a ragged tensor\n",
    "values = tf.ragged.constant([[1, 2], [3, 4, 5], [6]])"
   ]
  },
  {
   "cell_type": "code",
   "execution_count": 13,
   "id": "c0acd46a-6825-402e-9e5d-8b89c85d2545",
   "metadata": {},
   "outputs": [
    {
     "data": {
      "text/plain": [
       "<tf.RaggedTensor [[1, 2], [3, 4, 5], [6]]>"
      ]
     },
     "execution_count": 13,
     "metadata": {},
     "output_type": "execute_result"
    }
   ],
   "source": [
    "values"
   ]
  },
  {
   "cell_type": "markdown",
   "id": "079d4ac4-98c7-4c41-a93e-833d0b98e710",
   "metadata": {},
   "source": [
    "7) TensorArray: TensorArray is a dynamic data structure that allows you to store tensors of different shapes and sizes. It's often used in dynamic loop constructs."
   ]
  },
  {
   "cell_type": "code",
   "execution_count": 14,
   "id": "aa4f8af7-92af-4cdd-a091-d54cd3b9cc47",
   "metadata": {},
   "outputs": [],
   "source": [
    "# Creating a TensorArray\n",
    "ta = tf.TensorArray(dtype=tf.float32, size=0, dynamic_size=True)"
   ]
  },
  {
   "cell_type": "code",
   "execution_count": 15,
   "id": "5b296ced-103b-4321-8154-9072fbc26149",
   "metadata": {},
   "outputs": [
    {
     "data": {
      "text/plain": [
       "<tensorflow.python.ops.tensor_array_ops.TensorArray at 0x7fc9e41934f0>"
      ]
     },
     "execution_count": 15,
     "metadata": {},
     "output_type": "execute_result"
    }
   ],
   "source": [
    "ta"
   ]
  },
  {
   "cell_type": "markdown",
   "id": "bd0c5024-3f9e-4bed-ac6f-70d5952d1802",
   "metadata": {},
   "source": [
    "These are some of the key data structures used in TensorFlow. TensorFlow's flexible and powerful data structure system allows developers to efficiently build and train a wide variety of machine learning models"
   ]
  },
  {
   "cell_type": "markdown",
   "id": "6b704815-5005-4248-8715-1c5dea817b52",
   "metadata": {},
   "source": [
    "Q2. How does TensorFlow constant differ from TensorFlow Variable? Explain with example\n",
    "\n",
    "Ans: Both TensorFlow constants and variables are fundamental data structures, but they have different purposes and behaviors within a TensorFlow computation graph.\n",
    "\n",
    "TensorFlow Constants:\n",
    "- Constants are tensors with fixed values that remain unchanged throughout the computation.\n",
    "- They are typically used to provide inputs or fixed values to the computation graph.\n",
    "- Constants cannot be modified or updated after they are created.\n",
    "\n",
    "TensorFlow Variables:\n",
    "- Variables are tensors that hold mutable state, often used for model parameters that need to be learned during training.\n",
    "- They are initialized with initial values and can be updated through operations like assignments.\n",
    "- Variables can be used to store and update values as the model iteratively adjusts its parameters during training.\n",
    "\n",
    "Let's illustrate the difference with examples:\n",
    "\n",
    "Example of TensorFlow Constant:"
   ]
  },
  {
   "cell_type": "code",
   "execution_count": 16,
   "id": "6838b371-a191-4bd0-bc28-952f3954bae4",
   "metadata": {},
   "outputs": [
    {
     "name": "stdout",
     "output_type": "stream",
     "text": [
      "Error: 'tensorflow.python.framework.ops.EagerTensor' object has no attribute 'assign'\n"
     ]
    }
   ],
   "source": [
    "import tensorflow as tf\n",
    "\n",
    "# Creating a constant\n",
    "a = tf.constant(5)\n",
    "\n",
    "# Attempting to assign a new value to a constant will result in an error\n",
    "try:\n",
    "    a.assign(8)  # This will raise an error\n",
    "except Exception as e:\n",
    "    print(\"Error:\", e)"
   ]
  },
  {
   "cell_type": "code",
   "execution_count": 17,
   "id": "e437725a-2f97-4463-8707-82cbe4a06bd2",
   "metadata": {},
   "outputs": [
    {
     "name": "stdout",
     "output_type": "stream",
     "text": [
      "Initial 'b': <tf.Variable 'Variable:0' shape=(3, 3) dtype=float32, numpy=\n",
      "array([[-0.02216108, -0.71344775, -0.51969045],\n",
      "       [-1.2828177 , -0.92146754, -1.9941875 ],\n",
      "       [ 1.6231903 ,  1.3646754 ,  0.02722814]], dtype=float32)>\n",
      "\n",
      "Updated 'b': <tf.Variable 'Variable:0' shape=(3, 3) dtype=float32, numpy=\n",
      "array([[-0.4261145 , -0.44813904,  1.0795492 ],\n",
      "       [ 1.1721687 ,  0.43478695,  0.9882131 ],\n",
      "       [ 0.7841678 ,  0.6350282 ,  0.26581058]], dtype=float32)>\n"
     ]
    }
   ],
   "source": [
    "# Example of TensorFlow Variable:\n",
    "\n",
    "import tensorflow as tf\n",
    "\n",
    "# Creating a variable with an initial value\n",
    "initial_value = tf.random.normal(shape=(3, 3))\n",
    "b = tf.Variable(initial_value)\n",
    "\n",
    "print(\"Initial 'b':\",b)\n",
    "\n",
    "# Assigning a new value to the variable using the assign() operation\n",
    "new_value = tf.random.normal(shape=(3, 3))\n",
    "b.assign(new_value)\n",
    "\n",
    "# Now 'b' holds the new value assigned to it\n",
    "print(\"\\nUpdated 'b':\", b)"
   ]
  },
  {
   "cell_type": "markdown",
   "id": "c522eb9d-b95a-44a5-b537-df3b5b81583f",
   "metadata": {},
   "source": [
    "In the second example, you can see that a TensorFlow variable b is created with an initial value. Unlike constants, variables can be assigned new values using the assign() operation. This capability is crucial during the training process, where model parameters (weights and biases) are updated iteratively to minimize the loss function.\n",
    "\n",
    "In summary, constants are used to provide fixed inputs or values, while variables are used to hold and update mutable state, often representing model parameters."
   ]
  },
  {
   "cell_type": "markdown",
   "id": "a9028e38-e3f6-4a92-87da-6d71fc80d8fb",
   "metadata": {},
   "source": [
    "Q3. Describe the process of matrix addition, multiplication and element wise operations in Tensorflow.\n",
    "\n",
    "Ans: \n",
    "1.Matrix Addition:\n",
    "\n",
    "Matrix addition is a basic arithmetic operation where corresponding elements of two matrices are added together to create a new matrix of the same dimensions. In TensorFlow, you can perform matrix addition using the tf.add() function or by using the + operator."
   ]
  },
  {
   "cell_type": "code",
   "execution_count": 18,
   "id": "7897cea1-c07f-489e-8cf6-997be6e639f0",
   "metadata": {},
   "outputs": [
    {
     "name": "stdout",
     "output_type": "stream",
     "text": [
      "Matrix Addition Result:\n",
      "[[ 6  8]\n",
      " [10 12]]\n",
      "[[ 6  8]\n",
      " [10 12]]\n"
     ]
    }
   ],
   "source": [
    "import tensorflow as tf\n",
    "\n",
    "# Define two matrices\n",
    "matrix_a = tf.constant([[1, 2], [3, 4]])\n",
    "matrix_b = tf.constant([[5, 6], [7, 8]])\n",
    "\n",
    "# Perform matrix addition\n",
    "result = tf.add(matrix_a, matrix_b)\n",
    "\n",
    "# Alternatively, you can use the + operator\n",
    "result_alternative = matrix_a + matrix_b\n",
    "\n",
    "print(\"Matrix Addition Result:\")\n",
    "print(result.numpy())\n",
    "print(result_alternative.numpy())"
   ]
  },
  {
   "cell_type": "markdown",
   "id": "e0859918-5eaa-4ab9-8360-8ceb9a455da4",
   "metadata": {},
   "source": [
    "2. Matrix Multiplication:\n",
    "\n",
    "Matrix multiplication is a more complex operation where the dot product of rows and columns of two matrices results in a new matrix. TensorFlow provides the tf.matmul() function to perform matrix multiplication."
   ]
  },
  {
   "cell_type": "code",
   "execution_count": 19,
   "id": "97643f02-6338-40fd-80a9-eb30b7f7cde3",
   "metadata": {},
   "outputs": [
    {
     "name": "stdout",
     "output_type": "stream",
     "text": [
      "Matrix Multiplication Result:\n",
      "[[19 22]\n",
      " [43 50]]\n"
     ]
    }
   ],
   "source": [
    "import tensorflow as tf\n",
    "\n",
    "# Define two matrices\n",
    "matrix_a = tf.constant([[1, 2], [3, 4]])\n",
    "matrix_b = tf.constant([[5, 6], [7, 8]])\n",
    "\n",
    "# Perform matrix multiplication\n",
    "result = tf.matmul(matrix_a, matrix_b)\n",
    "\n",
    "print(\"Matrix Multiplication Result:\")\n",
    "print(result.numpy())"
   ]
  },
  {
   "cell_type": "markdown",
   "id": "e5c2d44d-7053-4386-ab91-b2e5f294ba40",
   "metadata": {},
   "source": [
    "3. Element-wise Operations:\n",
    "\n",
    "Element-wise operations involve applying an operation to each corresponding element of two matrices (or a matrix and a scalar). TensorFlow allows you to perform a variety of element-wise operations, such as addition, subtraction, multiplication, division, and more."
   ]
  },
  {
   "cell_type": "code",
   "execution_count": 20,
   "id": "e3482c44-8e60-4346-9648-8562109a7dec",
   "metadata": {},
   "outputs": [
    {
     "name": "stdout",
     "output_type": "stream",
     "text": [
      "Element-wise Addition Result:\n",
      "[[3 4]\n",
      " [5 6]]\n",
      "Element-wise Multiplication Result:\n",
      "[[2 4]\n",
      " [6 8]]\n"
     ]
    }
   ],
   "source": [
    "import tensorflow as tf\n",
    "\n",
    "# Define a matrix and a scalar\n",
    "matrix = tf.constant([[1, 2], [3, 4]])\n",
    "scalar = 2\n",
    "\n",
    "# Perform element-wise addition\n",
    "result_add = matrix + scalar\n",
    "\n",
    "# Perform element-wise multiplication\n",
    "result_multiply = matrix * scalar\n",
    "\n",
    "print(\"Element-wise Addition Result:\")\n",
    "print(result_add.numpy())\n",
    "\n",
    "print(\"Element-wise Multiplication Result:\")\n",
    "print(result_multiply.numpy())"
   ]
  },
  {
   "cell_type": "markdown",
   "id": "226aed96-2d2b-4ea2-bab2-d785a04b5ad8",
   "metadata": {},
   "source": [
    "In TensorFlow, these operations are efficiently handled using optimized numerical libraries, such as Intel MKL and NVIDIA cuBLAS, for CPU and GPU computation, respectively. These libraries allow TensorFlow to take advantage of hardware acceleration for faster computation.\n",
    "\n",
    "Remember that proper matrix dimensions and compatibility are crucial for matrix multiplication. The number of columns in the first matrix must match the number of rows in the second matrix for successful matrix multiplication. Element-wise operations require matrices or tensors to have the same shape or be broadcastable."
   ]
  },
  {
   "cell_type": "markdown",
   "id": "da63994b-8844-416c-be96-759ab1dbd29e",
   "metadata": {},
   "source": [
    "### Task 1 : Creating and Manipulating matrices\n",
    "\n",
    "Q1. Create a normal matrix A with dimensions 3x3, using Tensorflows random normal function. Display the value of matrix A."
   ]
  },
  {
   "cell_type": "code",
   "execution_count": 21,
   "id": "a9b056c8-2d75-4425-814f-96c9536548d1",
   "metadata": {},
   "outputs": [
    {
     "name": "stdout",
     "output_type": "stream",
     "text": [
      "Matrix A:\n",
      "tf.Tensor(\n",
      "[[-0.58086973  1.6096147  -0.42769545]\n",
      " [-1.2789768  -1.8124616   1.4217237 ]\n",
      " [-1.1742159  -1.0289081   1.109503  ]], shape=(3, 3), dtype=float32)\n"
     ]
    }
   ],
   "source": [
    "import tensorflow as tf\n",
    "\n",
    "# Create a 3x3 matrix with random values from a normal distribution\n",
    "A = tf.random.normal(shape=(3, 3))\n",
    "\n",
    "# Display the value of matrix A\n",
    "print(\"Matrix A:\")\n",
    "print(A)"
   ]
  },
  {
   "cell_type": "markdown",
   "id": "9fa02526-092c-42c6-8dc9-04a52868b9c4",
   "metadata": {},
   "source": [
    "Q2. Create a Gaussian Matrix B with dimension 4X4, using truncated_normal function. Display the values of Matrix B"
   ]
  },
  {
   "cell_type": "code",
   "execution_count": 22,
   "id": "d8aabfc1-f411-47c0-9b5b-69a1f0945aa4",
   "metadata": {},
   "outputs": [
    {
     "name": "stdout",
     "output_type": "stream",
     "text": [
      "Matrix B:\n",
      "[[-0.87887675  1.7419304  -0.21815345 -1.568095  ]\n",
      " [-1.5071859   0.7798452  -1.1650678  -0.17835592]\n",
      " [ 0.59121364 -1.3385626  -1.3989441  -0.2292451 ]\n",
      " [-0.592322   -0.6697024  -1.0243976  -0.5462425 ]]\n"
     ]
    }
   ],
   "source": [
    "import tensorflow as tf\n",
    "\n",
    "# Define the dimensions of the matrix\n",
    "matrix_shape = (4, 4)\n",
    "\n",
    "# Generate a Gaussian matrix using truncated normal distribution\n",
    "mean = 0\n",
    "stddev = 1\n",
    "B = tf.random.truncated_normal(shape=matrix_shape, mean=mean, stddev=stddev)\n",
    "\n",
    "# Display the generated matrix\n",
    "print(\"Matrix B:\")\n",
    "print(B.numpy())"
   ]
  },
  {
   "cell_type": "markdown",
   "id": "3657f7b3-a091-4bc5-a90f-68dbd3e752c7",
   "metadata": {},
   "source": [
    "Q3. Create a Gaussian Matrix C with dimension 2X2, where values are drawn from normal distribution with a mean of 3 and a standard deviation of 0.5, using Tensorflow's random.normal function Display values of matrix C."
   ]
  },
  {
   "cell_type": "code",
   "execution_count": 23,
   "id": "69c4b145-b3e3-4f55-ad68-663e5310ae95",
   "metadata": {},
   "outputs": [
    {
     "name": "stdout",
     "output_type": "stream",
     "text": [
      "Matrix C:\n",
      "[[2.796058  2.6714187]\n",
      " [2.39986   2.3424942]]\n"
     ]
    }
   ],
   "source": [
    "import tensorflow as tf\n",
    "\n",
    "# Define the dimensions of the matrix\n",
    "matrix_shape = (2, 2)\n",
    "\n",
    "# Generate a Gaussian matrix using normal distribution\n",
    "mean = 3.0\n",
    "stddev = 0.5\n",
    "C = tf.random.normal(shape=matrix_shape, mean=mean, stddev=stddev)\n",
    "\n",
    "# Display the generated matrix\n",
    "print(\"Matrix C:\")\n",
    "print(C.numpy())"
   ]
  },
  {
   "cell_type": "markdown",
   "id": "d711d4c6-be72-4ddf-a03a-59237182d572",
   "metadata": {},
   "source": [
    "Q4. Perform matrix addition between matrix A and matrix B and store the results in matrix D\n",
    "\n",
    "Ans: Matrix A has shape (3,3) while matrix B has shape(4,4) it is not possible to add these matrices as shapes are different\n",
    "\n",
    "Below is alternate example to show matrix addition"
   ]
  },
  {
   "cell_type": "code",
   "execution_count": 24,
   "id": "c4ff736e-d7f3-48ef-bef6-d535e86d7a60",
   "metadata": {},
   "outputs": [
    {
     "name": "stdout",
     "output_type": "stream",
     "text": [
      "Matrix 1 :\n",
      " [[1.4561327  0.95266235]\n",
      " [2.0985527  2.0347655 ]]\n",
      "\n",
      "Matrix 2 :\n",
      " [[-0.6869955  -0.09377789]\n",
      " [-0.0932287  -0.73536325]]\n",
      "\n",
      "Matrix D :\n",
      " [[0.76913714 0.85888445]\n",
      " [2.005324   1.2994022 ]]\n"
     ]
    }
   ],
   "source": [
    "matrix1 = tf.random.normal(shape=(2,2))\n",
    "matrix2 = tf.random.normal(shape=(2,2))\n",
    "D = tf.add(matrix1, matrix2)\n",
    "print(f'Matrix 1 :\\n {matrix1.numpy()}')\n",
    "print(f'\\nMatrix 2 :\\n {matrix2.numpy()}')\n",
    "print(f'\\nMatrix D :\\n {D.numpy()}')"
   ]
  },
  {
   "cell_type": "markdown",
   "id": "54c751a6-a1d2-4252-8ace-1deaf0f3a824",
   "metadata": {},
   "source": [
    "Q5. Perform matrix multiplication between matrix C and matrix D and store result in matrix E"
   ]
  },
  {
   "cell_type": "code",
   "execution_count": 25,
   "id": "558027b4-d244-49c3-af61-1e4a43945294",
   "metadata": {},
   "outputs": [
    {
     "name": "stdout",
     "output_type": "stream",
     "text": [
      "Matrix C :\n",
      "[[2.796058  2.6714187]\n",
      " [2.39986   2.3424942]]\n",
      "\n",
      "Matrix D :\n",
      "[[0.76913714 0.85888445]\n",
      " [2.005324   1.2994022 ]]\n",
      "\n",
      "Matrix E = CxD:\n",
      "[[7.5076113 5.872738 ]\n",
      " [6.543281  5.1050444]]\n"
     ]
    }
   ],
   "source": [
    "E = tf.matmul(C,D)\n",
    "\n",
    "print(f'Matrix C :\\n{C.numpy()}')\n",
    "print(f'\\nMatrix D :\\n{D.numpy()}')\n",
    "print(f'\\nMatrix E = CxD:\\n{E.numpy()}')"
   ]
  },
  {
   "cell_type": "markdown",
   "id": "50665c91-491b-4d5b-84b9-36d166a62e4e",
   "metadata": {},
   "source": [
    "### Task 2: Performing additional matrix operations\n",
    "Q1. Create a matrix F with dimensions 3x3, initialized random values using Tensorflows random_uniform function."
   ]
  },
  {
   "cell_type": "code",
   "execution_count": 26,
   "id": "31f9b0b9-334d-44d4-a1f6-375b61457e43",
   "metadata": {},
   "outputs": [
    {
     "name": "stdout",
     "output_type": "stream",
     "text": [
      "Matrix F :\n",
      "[[0.1182133  0.98055434 0.24668086]\n",
      " [0.62475157 0.8307446  0.11828387]\n",
      " [0.09336197 0.95838916 0.73158526]]\n"
     ]
    }
   ],
   "source": [
    "# Create a matrix F\n",
    "F = tf.random.uniform(shape=(3,3))\n",
    "print(f'Matrix F :\\n{F.numpy()}')"
   ]
  },
  {
   "cell_type": "markdown",
   "id": "46872633-6260-4223-ae9b-0dd184a45e40",
   "metadata": {},
   "source": [
    "Q2. Calculate Transpose of Matrix F and store in Matrix G"
   ]
  },
  {
   "cell_type": "code",
   "execution_count": 27,
   "id": "ed26eb49-bda6-43ed-aa64-1e2707b94959",
   "metadata": {},
   "outputs": [
    {
     "name": "stdout",
     "output_type": "stream",
     "text": [
      "Matrix G :\n",
      "[[0.1182133  0.62475157 0.09336197]\n",
      " [0.98055434 0.8307446  0.95838916]\n",
      " [0.24668086 0.11828387 0.73158526]]\n"
     ]
    }
   ],
   "source": [
    "# Transpose the F matrix\n",
    "G = tf.transpose(F)\n",
    "\n",
    "# Print the matrix\n",
    "print(f'Matrix G :\\n{G.numpy()}')"
   ]
  },
  {
   "cell_type": "markdown",
   "id": "1d309c3b-334d-458b-971d-d3a5252ced38",
   "metadata": {},
   "source": [
    "Q3. Calculate element wise exponential of Matrix F and store the result in matrix H"
   ]
  },
  {
   "cell_type": "code",
   "execution_count": 28,
   "id": "30f218ba-a4ea-468a-8a34-f11a187f2b9a",
   "metadata": {},
   "outputs": [
    {
     "name": "stdout",
     "output_type": "stream",
     "text": [
      "Matrix H :\n",
      "[[1.1254841 2.6659336 1.2797706]\n",
      " [1.8677819 2.295027  1.1255636]\n",
      " [1.097859  2.607493  2.0783727]]\n"
     ]
    }
   ],
   "source": [
    "# Element wise exponent\n",
    "H = tf.math.exp(F)\n",
    "\n",
    "# Print matrix H\n",
    "print(f'Matrix H :\\n{H.numpy()}')"
   ]
  },
  {
   "cell_type": "markdown",
   "id": "8bdd20ee-d0c6-4e05-bb9f-75419b2f3e2a",
   "metadata": {},
   "source": [
    "Q4. Create a matrix I by concatenating Matrix F and matrix G horizontally"
   ]
  },
  {
   "cell_type": "code",
   "execution_count": 29,
   "id": "7e022ec1-3011-4b72-9ec5-7ed717061383",
   "metadata": {},
   "outputs": [
    {
     "name": "stdout",
     "output_type": "stream",
     "text": [
      "Matrix F:\n",
      "[[0.1182133  0.98055434 0.24668086]\n",
      " [0.62475157 0.8307446  0.11828387]\n",
      " [0.09336197 0.95838916 0.73158526]]\n",
      "\n",
      "Matrix G:\n",
      "[[0.1182133  0.62475157 0.09336197]\n",
      " [0.98055434 0.8307446  0.95838916]\n",
      " [0.24668086 0.11828387 0.73158526]]\n",
      "\n",
      "Matrix I (Concatenated Horizontally):\n",
      "[[0.1182133  0.98055434 0.24668086 0.1182133  0.62475157 0.09336197]\n",
      " [0.62475157 0.8307446  0.11828387 0.98055434 0.8307446  0.95838916]\n",
      " [0.09336197 0.95838916 0.73158526 0.24668086 0.11828387 0.73158526]]\n"
     ]
    }
   ],
   "source": [
    "# Concatenate matrices F and G horizontally to create matrix I\n",
    "I = tf.concat([F, G], axis=1)\n",
    "\n",
    "# Display the original matrices and the concatenated matrix\n",
    "print(\"Matrix F:\")\n",
    "print(F.numpy())\n",
    "\n",
    "print(\"\\nMatrix G:\")\n",
    "print(G.numpy())\n",
    "\n",
    "print(\"\\nMatrix I (Concatenated Horizontally):\")\n",
    "print(I.numpy())"
   ]
  },
  {
   "cell_type": "markdown",
   "id": "00b5766d-7f7f-479a-9a14-b9bb04260f9c",
   "metadata": {},
   "source": [
    "Q5. Create a matrix J by concatenating matrix F and matrix H vertically"
   ]
  },
  {
   "cell_type": "code",
   "execution_count": 30,
   "id": "0328fd7e-c04b-4c21-a937-0ee82f9bed67",
   "metadata": {},
   "outputs": [
    {
     "name": "stdout",
     "output_type": "stream",
     "text": [
      "Matrix F:\n",
      "[[0.1182133  0.98055434 0.24668086]\n",
      " [0.62475157 0.8307446  0.11828387]\n",
      " [0.09336197 0.95838916 0.73158526]]\n",
      "\n",
      "Matrix H:\n",
      "[[1.1254841 2.6659336 1.2797706]\n",
      " [1.8677819 2.295027  1.1255636]\n",
      " [1.097859  2.607493  2.0783727]]\n",
      "\n",
      "Matrix J (Concatenated Vertically):\n",
      "[[0.1182133  0.98055434 0.24668086]\n",
      " [0.62475157 0.8307446  0.11828387]\n",
      " [0.09336197 0.95838916 0.73158526]\n",
      " [1.1254841  2.6659336  1.2797706 ]\n",
      " [1.8677819  2.295027   1.1255636 ]\n",
      " [1.097859   2.607493   2.0783727 ]]\n"
     ]
    }
   ],
   "source": [
    "# Concatenate matrices F and H vertically to create matrix J\n",
    "J = tf.concat([F, H], axis=0)\n",
    "\n",
    "# Display the original matrices and the concatenated matrix\n",
    "print(\"Matrix F:\")\n",
    "print(F.numpy())\n",
    "\n",
    "print(\"\\nMatrix H:\")\n",
    "print(H.numpy())\n",
    "\n",
    "print(\"\\nMatrix J (Concatenated Vertically):\")\n",
    "print(J.numpy())"
   ]
  }
 ],
 "metadata": {
  "kernelspec": {
   "display_name": "Python 3 (ipykernel)",
   "language": "python",
   "name": "python3"
  },
  "language_info": {
   "codemirror_mode": {
    "name": "ipython",
    "version": 3
   },
   "file_extension": ".py",
   "mimetype": "text/x-python",
   "name": "python",
   "nbconvert_exporter": "python",
   "pygments_lexer": "ipython3",
   "version": "3.10.8"
  }
 },
 "nbformat": 4,
 "nbformat_minor": 5
}
