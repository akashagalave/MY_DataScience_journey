{
 "cells": [
  {
   "cell_type": "markdown",
   "id": "207acfba-ca29-4810-8ed9-b088e1ace83e",
   "metadata": {},
   "source": [
    "# 1. Create a Pandas Series that contains the following data: 4, 8, 15, 16, 23, and 42. Then, print the series."
   ]
  },
  {
   "cell_type": "code",
   "execution_count": 1,
   "id": "3f9d359f-1ae9-400d-9d90-0ce4d15faea2",
   "metadata": {},
   "outputs": [],
   "source": [
    "import pandas as pd"
   ]
  },
  {
   "cell_type": "code",
   "execution_count": 2,
   "id": "46053520-49ca-4a5e-849e-b46cbd057671",
   "metadata": {},
   "outputs": [],
   "source": [
    "data=[4,8,15,16,23,42]\n",
    "series=pd.Series(data)"
   ]
  },
  {
   "cell_type": "code",
   "execution_count": 4,
   "id": "5bf47d12-260e-4e28-87cd-40ee2bd0a637",
   "metadata": {},
   "outputs": [
    {
     "data": {
      "text/plain": [
       "0     4\n",
       "1     8\n",
       "2    15\n",
       "3    16\n",
       "4    23\n",
       "5    42\n",
       "dtype: int64"
      ]
     },
     "execution_count": 4,
     "metadata": {},
     "output_type": "execute_result"
    }
   ],
   "source": [
    "series"
   ]
  },
  {
   "cell_type": "code",
   "execution_count": null,
   "id": "409bda91-353a-4977-b898-7bbb4c3ebe8d",
   "metadata": {},
   "outputs": [],
   "source": []
  },
  {
   "cell_type": "markdown",
   "id": "0cddd7bd-223c-4bc1-bf87-f6667f192a8c",
   "metadata": {},
   "source": [
    "# Q2. Create a variable of list type containing 10 elements in it, and apply pandas.Series function on the  variable print it"
   ]
  },
  {
   "cell_type": "code",
   "execution_count": 5,
   "id": "d8f4a191-b54e-4355-abe6-346dfb248626",
   "metadata": {},
   "outputs": [
    {
     "name": "stdout",
     "output_type": "stream",
     "text": [
      "0     1\n",
      "1     2\n",
      "2     3\n",
      "3     4\n",
      "4     5\n",
      "5     6\n",
      "6     7\n",
      "7     8\n",
      "8     9\n",
      "9    10\n",
      "dtype: int64\n"
     ]
    }
   ],
   "source": [
    "import pandas as pd\n",
    "\n",
    "my_list = [1, 2, 3, 4, 5, 6, 7, 8, 9, 10]\n",
    "my_series = pd.Series(my_list)\n",
    "\n",
    "print(my_series)\n"
   ]
  },
  {
   "cell_type": "code",
   "execution_count": null,
   "id": "8dd98aec-ba65-4371-9b49-5b66ae839c4d",
   "metadata": {},
   "outputs": [],
   "source": []
  },
  {
   "cell_type": "markdown",
   "id": "c9ae44d9-9cc5-4a75-9553-01a710c21907",
   "metadata": {},
   "source": [
    "# Q3. Create a Pandas DataFrame that contains the following data:"
   ]
  },
  {
   "cell_type": "code",
   "execution_count": 6,
   "id": "e383be1d-fbbf-44b9-8e4c-6b40d7383cf2",
   "metadata": {},
   "outputs": [
    {
     "name": "stdout",
     "output_type": "stream",
     "text": [
      "     Name  Age  Gender\n",
      "0   Alice   25  Female\n",
      "1     Bob   30    Male\n",
      "2  Claire   27  Female\n"
     ]
    }
   ],
   "source": [
    "import pandas as pd\n",
    "\n",
    "data = {\n",
    "    'Name': ['Alice', 'Bob', 'Claire'],\n",
    "    'Age': [25, 30, 27],\n",
    "    'Gender': ['Female', 'Male', 'Female']\n",
    "}\n",
    "\n",
    "df = pd.DataFrame(data)\n",
    "print(df)\n"
   ]
  },
  {
   "cell_type": "code",
   "execution_count": null,
   "id": "3725548d-89e5-4708-9f7e-05618a92ed1f",
   "metadata": {},
   "outputs": [],
   "source": []
  },
  {
   "cell_type": "markdown",
   "id": "831aecd5-9ae4-440f-b3fc-c30a162b0b38",
   "metadata": {},
   "source": [
    "# Q4. What is ‘DataFrame’ in pandas and how is it different from pandas.series? Explain with an example."
   ]
  },
  {
   "cell_type": "markdown",
   "id": "cb3c8da8-bd7f-4d65-9f40-a9ea7f8276b6",
   "metadata": {},
   "source": [
    "Key differences between a DataFrame and a Series:\n",
    "\n",
    "Dimensionality: A DataFrame is a 2-dimensional data structure, whereas a Series is a 1-dimensional data structure.\n",
    "\n",
    "Columns and Index: A DataFrame consists of multiple named columns, and each column can have a different data type. It also has an index that labels the rows. In contrast, a Series has only one column and an index that labels its elements.\n",
    "\n",
    "Tabular Structure: A DataFrame is a tabular structure that can represent a complete dataset, including multiple variables or features. A Series represents a single column of data from a DataFrame.\n",
    "\n",
    "Operations: DataFrames and Series support different operations. DataFrames can perform operations on entire columns or subsets of data, such as filtering, merging, grouping, and aggregation. Series, being 1-dimensional, are suitable for element-wise operations, calculations, and statistical analysis.\n",
    "\n",
    "In summary, a DataFrame is a 2-dimensional labeled data structure representing a table-like format with rows and columns, whereas a Series is a 1-dimensional labeled array-like object that represents a single column of data from a DataFrame."
   ]
  },
  {
   "cell_type": "code",
   "execution_count": null,
   "id": "f1662e0a-ab5e-4b4e-ba47-ba0d0b430305",
   "metadata": {},
   "outputs": [],
   "source": []
  },
  {
   "cell_type": "markdown",
   "id": "102b0cf8-c626-4c19-a167-012e9da4940e",
   "metadata": {},
   "source": [
    "# Q5. What are some common functions you can use to manipulate data in a Pandas DataFrame? Can you give an example of when you might use one of these functions?"
   ]
  },
  {
   "cell_type": "markdown",
   "id": "afc7813e-4b30-4bf8-b2b4-ad2fe00ae974",
   "metadata": {},
   "source": [
    "Pandas provides a wide range of functions to manipulate and transform data in a DataFrame. Here are some commonly used functions:\n",
    "\n",
    "head() and tail(): These functions allow you to retrieve the first few rows (head()) or the last few rows (tail()) of a DataFrame. They are often used to quickly inspect the structure and contents of a DataFrame.\n",
    "\n",
    "info(): This function provides a summary of the DataFrame, including the column names, data types, and memory usage. It helps in understanding the overall structure and composition of the DataFrame.\n",
    "\n",
    "describe(): This function generates descriptive statistics of the numeric columns in the DataFrame, such as count, mean, standard deviation, minimum, and maximum values. It provides a quick overview of the distribution and summary statistics of the numerical data.\n",
    "\n",
    "shape: This attribute returns a tuple representing the dimensions (number of rows, number of columns) of the DataFrame. It is used to check the size or shape of the DataFrame.\n",
    "\n",
    "loc[ ] and iloc[ ]: These indexers are used to access and manipulate data in a DataFrame based on labels (loc[]) or integer-based positions (iloc[]). They allow you to select specific rows and columns or update values in the DataFrame.\n",
    "\n",
    "drop(): This function is used to remove rows or columns from the DataFrame. It can be useful when you want to eliminate irrelevant or redundant data from the DataFrame.\n",
    "\n",
    "sort_values(): This function is used to sort the DataFrame based on one or more columns. It helps in arranging the data in a desired order, such as ascending or descending order of a specific column."
   ]
  },
  {
   "cell_type": "code",
   "execution_count": null,
   "id": "90fac43c-b117-4d57-a0ce-67d3735dbefb",
   "metadata": {},
   "outputs": [],
   "source": []
  },
  {
   "cell_type": "markdown",
   "id": "e2c4e67c-a9d4-40d4-a2d1-86c4d6a1f637",
   "metadata": {},
   "source": [
    "#  Q6. Which of the following is mutable in nature Series, DataFrame, Panel?"
   ]
  },
  {
   "cell_type": "markdown",
   "id": "67fabddd-0f0c-4dc6-9e11-ef176d5ce3bd",
   "metadata": {},
   "source": [
    "In Pandas, the Series and DataFrame are mutable in nature, while the Panel is not mutable."
   ]
  },
  {
   "cell_type": "code",
   "execution_count": null,
   "id": "2d8ba91d-2e20-4e66-a76b-1f8e49c25f44",
   "metadata": {},
   "outputs": [],
   "source": []
  },
  {
   "cell_type": "markdown",
   "id": "102cd870-c85d-415a-8e84-33633cc83665",
   "metadata": {},
   "source": [
    "# Q7. Create a DataFrame using multiple Series. Explain with an example."
   ]
  },
  {
   "cell_type": "code",
   "execution_count": 8,
   "id": "5770ab9a-8c3b-4744-80b3-eea4894c02ca",
   "metadata": {},
   "outputs": [
    {
     "name": "stdout",
     "output_type": "stream",
     "text": [
      "     Name  Age Gender\n",
      "0   Akash   21   male\n",
      "1  mahesh   20   Male\n",
      "2    king   51   male\n"
     ]
    }
   ],
   "source": [
    "import pandas as pd\n",
    "\n",
    "# Creating Series objects\n",
    "name_series = pd.Series(['Akash', 'mahesh', 'king'])\n",
    "age_series = pd.Series([21, 20, 51])\n",
    "gender_series = pd.Series(['male', 'Male', 'male'])\n",
    "\n",
    "# Creating DataFrame using Series\n",
    "data = {\n",
    "    'Name': name_series,\n",
    "    'Age': age_series,\n",
    "    'Gender': gender_series\n",
    "}\n",
    "df = pd.DataFrame(data)\n",
    "\n",
    "print(df)\n"
   ]
  },
  {
   "cell_type": "code",
   "execution_count": null,
   "id": "8ab91d97-2bbf-4cd1-ae27-3110c1c69ee8",
   "metadata": {},
   "outputs": [],
   "source": []
  }
 ],
 "metadata": {
  "kernelspec": {
   "display_name": "Python 3 (ipykernel)",
   "language": "python",
   "name": "python3"
  },
  "language_info": {
   "codemirror_mode": {
    "name": "ipython",
    "version": 3
   },
   "file_extension": ".py",
   "mimetype": "text/x-python",
   "name": "python",
   "nbconvert_exporter": "python",
   "pygments_lexer": "ipython3",
   "version": "3.10.8"
  }
 },
 "nbformat": 4,
 "nbformat_minor": 5
}
