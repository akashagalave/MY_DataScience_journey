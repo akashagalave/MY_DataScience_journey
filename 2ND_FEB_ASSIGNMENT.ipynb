{
 "cells": [
  {
   "cell_type": "markdown",
   "id": "4d5ad890-47aa-49ec-9fc1-a76ed09c22ac",
   "metadata": {},
   "source": [
    "# Q1):-  Explain with an example each when to use a for loop and a while loop."
   ]
  },
  {
   "cell_type": "markdown",
   "id": "46d105e6-f81e-4214-98a4-464b80a1e910",
   "metadata": {},
   "source": [
    "#  Both for loops and while loops are used to repeat a set of statements multiple times.\n",
    "\n",
    "# Use a for loop when:\n",
    "\n",
    "# You know the number of iterations beforehand: If you know the exact number of times you want to repeat a set of statements, you can use a for loop. \n",
    "# The for loop uses a counter variable that increments with each iteration, making it easy to control the number of iterations."
   ]
  },
  {
   "cell_type": "code",
   "execution_count": 2,
   "id": "c95f70ed-baf3-459e-825e-898cd60b864b",
   "metadata": {},
   "outputs": [
    {
     "name": "stdout",
     "output_type": "stream",
     "text": [
      "1\n",
      "2\n",
      "3\n",
      "4\n",
      "5\n",
      "6\n",
      "7\n",
      "8\n",
      "9\n",
      "10\n"
     ]
    }
   ],
   "source": [
    "#example of for loop:-\n",
    "for i in range(1, 11):\n",
    "    print(i)\n"
   ]
  },
  {
   "cell_type": "markdown",
   "id": "a0cda911-53b7-4287-a874-5cdea64c4436",
   "metadata": {},
   "source": [
    "# You need to iterate over a sequence or iterable: If you need to iterate over a list, tuple, string or any other sequence, you can use a for loop.\n",
    "# In this case, the loop variable takes on the values of each element in the sequence, one at a time."
   ]
  },
  {
   "cell_type": "markdown",
   "id": "87a510b0-3a2d-4d71-8c6d-4a0a8b854a90",
   "metadata": {},
   "source": [
    "# Use a while loop when:\n",
    "\n",
    "# You don't know the number of iterations beforehand: If the number of iterations depends on some condition that may change during the loop, \n",
    "# you can use a while loop. The while loop continues to iterate as long as a certain condition is true."
   ]
  },
  {
   "cell_type": "code",
   "execution_count": 5,
   "id": "9a031015-abd9-4129-9398-4e313341a744",
   "metadata": {},
   "outputs": [
    {
     "name": "stdout",
     "output_type": "stream",
     "text": [
      "1\n",
      "2\n",
      "3\n",
      "4\n",
      "5\n",
      "6\n",
      "7\n",
      "8\n",
      "9\n",
      "10\n",
      "11\n",
      "12\n",
      "13\n",
      "14\n"
     ]
    }
   ],
   "source": [
    "#example of while loop:-\n",
    "\n",
    "sum = 0\n",
    "num = 1\n",
    "while sum < 100:\n",
    "    sum += num\n",
    "    print(num)\n",
    "    num += 1\n"
   ]
  },
  {
   "cell_type": "markdown",
   "id": "5a36eb19-4e52-4bc6-a9d1-490595df2d0d",
   "metadata": {},
   "source": [
    "#Q2):- Write a python program to print the sum and product of the first 10 natural numbers using for and while loop."
   ]
  },
  {
   "cell_type": "code",
   "execution_count": 7,
   "id": "4cf04577-77a6-4973-befe-538402bd8196",
   "metadata": {},
   "outputs": [
    {
     "name": "stdout",
     "output_type": "stream",
     "text": [
      "Sum of the first 10 natural numbers: 55\n",
      "Product of the first 10 natural numbers: 3628800\n"
     ]
    }
   ],
   "source": [
    "#USING FOR LOOP:-\n",
    "\n",
    "sum = 0\n",
    "product = 1\n",
    "\n",
    "for i in range(1, 11):\n",
    "    sum += i\n",
    "    product *= i\n",
    "\n",
    "print(\"Sum of the first 10 natural numbers:\", sum)\n",
    "print(\"Product of the first 10 natural numbers:\", product)\n"
   ]
  },
  {
   "cell_type": "code",
   "execution_count": 8,
   "id": "ea6babbd-c34d-48a6-9475-ed7182416300",
   "metadata": {},
   "outputs": [
    {
     "name": "stdout",
     "output_type": "stream",
     "text": [
      "Sum of the first 10 natural numbers: 55\n",
      "Product of the first 10 natural numbers: 3628800\n"
     ]
    }
   ],
   "source": [
    "#USING WHILE LOOP:-\n",
    "\n",
    "sum = 0\n",
    "product = 1\n",
    "i = 1\n",
    "\n",
    "while i <= 10:\n",
    "    sum += i\n",
    "    product *= i\n",
    "    i += 1\n",
    "\n",
    "print(\"Sum of the first 10 natural numbers:\", sum)\n",
    "print(\"Product of the first 10 natural numbers:\", product)\n"
   ]
  },
  {
   "cell_type": "code",
   "execution_count": 9,
   "id": "02bcb5e3-5892-48c2-84bf-4d75531f6e16",
   "metadata": {},
   "outputs": [],
   "source": [
    " # Q3):-Create a python program to compute the electricity bill for a household.\n",
    "#The per-unit charges in rupees are as follows: For the first 100 units, the user will be charged Rs. 4.5 per \n",
    "#unit, for the next 100 units, the user will be charged Rs. 6 per unit, and for the next 100 units, the user will \n",
    "#be charged Rs. 10 per unit, After 300 units and above the user will be charged Rs. 20 per unit.\n",
    "\n",
    "\n",
    "#You are required to take the units of electricity consumed in a month from the user as input.\n",
    "\n",
    "\n",
    "#Your program must pass this test case: when the unit of electricity consumed by the user in a month is \n",
    "#310, the total electricity bill should be 2250."
   ]
  },
  {
   "cell_type": "code",
   "execution_count": 10,
   "id": "f0d57f3d-5cc0-4714-b9e5-1ddd0595c85a",
   "metadata": {},
   "outputs": [
    {
     "name": "stdin",
     "output_type": "stream",
     "text": [
      "Enter the number of units consumed:  310\n"
     ]
    },
    {
     "name": "stdout",
     "output_type": "stream",
     "text": [
      "Your electricity bill is Rs. 2250.0\n"
     ]
    }
   ],
   "source": [
    "#PROGRAM FOR ELECTRICITY BILL FOR HOUSEHOLD.\n",
    "\n",
    "# Take user input for units consumed\n",
    "units = int(input(\"Enter the number of units consumed: \"))\n",
    "\n",
    "# Calculate electricity bill based on per-unit charges\n",
    "if units <= 100:\n",
    "    bill = units * 4.5\n",
    "elif units <= 200:\n",
    "    bill = 100 * 4.5 + (units - 100) * 6\n",
    "elif units <= 300:\n",
    "    bill = 100 * 4.5 + 100 * 6 + (units - 200) * 10\n",
    "else:\n",
    "    bill = 100 * 4.5 + 100 * 6 + 100 * 10 + (units - 300) * 20\n",
    "\n",
    "# Display the electricity bill\n",
    "print(\"Your electricity bill is Rs.\", bill)\n"
   ]
  },
  {
   "cell_type": "code",
   "execution_count": 11,
   "id": "2f636c85-ca37-4555-b717-7389942fde8c",
   "metadata": {},
   "outputs": [],
   "source": [
    "#  Q4):-Create a list of numbers from 1 to 100. Use for loop and while loop to calculate the cube of each \n",
    "#number and if the cube of that number is divisible by 4 or 5 then append that number in a list and print \n",
    "#that list."
   ]
  },
  {
   "cell_type": "code",
   "execution_count": 12,
   "id": "d065584b-48e7-4d83-ae22-f1d113e4adb9",
   "metadata": {},
   "outputs": [
    {
     "name": "stdout",
     "output_type": "stream",
     "text": [
      "List of numbers whose cubes are divisible by 4 or 5:\n",
      "[2, 4, 5, 6, 8, 10, 12, 14, 15, 16, 18, 20, 22, 24, 25, 26, 28, 30, 32, 34, 35, 36, 38, 40, 42, 44, 45, 46, 48, 50, 52, 54, 55, 56, 58, 60, 62, 64, 65, 66, 68, 70, 72, 74, 75, 76, 78, 80, 82, 84, 85, 86, 88, 90, 92, 94, 95, 96, 98, 100]\n"
     ]
    }
   ],
   "source": [
    "#FOR FOR LOOP\n",
    "# Create an empty list to store the numbers\n",
    "num_list = []\n",
    "\n",
    "# Use a for loop to iterate through numbers 1 to 100\n",
    "for i in range(1, 101):\n",
    "    # Calculate the cube of the number\n",
    "    cube = i ** 3\n",
    "    # Check if the cube is divisible by 4 or 5\n",
    "    if cube % 4 == 0 or cube % 5 == 0:\n",
    "        # If so, append the number to the list\n",
    "        num_list.append(i)\n",
    "\n",
    "# Print the list of numbers whose cubes are divisible by 4 or 5\n",
    "print(\"List of numbers whose cubes are divisible by 4 or 5:\")\n",
    "print(num_list)\n"
   ]
  },
  {
   "cell_type": "code",
   "execution_count": 13,
   "id": "402900a5-7c21-4dc7-9652-5cfdc55f622c",
   "metadata": {},
   "outputs": [
    {
     "name": "stdout",
     "output_type": "stream",
     "text": [
      "List of numbers whose cubes are divisible by 4 or 5:\n",
      "[2, 4, 5, 6, 8, 10, 12, 14, 15, 16, 18, 20, 22, 24, 25, 26, 28, 30, 32, 34, 35, 36, 38, 40, 42, 44, 45, 46, 48, 50, 52, 54, 55, 56, 58, 60, 62, 64, 65, 66, 68, 70, 72, 74, 75, 76, 78, 80, 82, 84, 85, 86, 88, 90, 92, 94, 95, 96, 98, 100]\n"
     ]
    }
   ],
   "source": [
    "#FOR WHILE LOOP\n",
    "\n",
    "# Create an empty list to store the numbers\n",
    "num_list = []\n",
    "\n",
    "# Use a while loop to iterate through numbers 1 to 100\n",
    "i = 1\n",
    "while i <= 100:\n",
    "    # Calculate the cube of the number\n",
    "    cube = i ** 3\n",
    "    # Check if the cube is divisible by 4 or 5\n",
    "    if cube % 4 == 0 or cube % 5 == 0:\n",
    "        # If so, append the number to the list\n",
    "        num_list.append(i)\n",
    "    i += 1\n",
    "\n",
    "# Print the list of numbers whose cubes are divisible by 4 or 5\n",
    "print(\"List of numbers whose cubes are divisible by 4 or 5:\")\n",
    "print(num_list)\n"
   ]
  },
  {
   "cell_type": "code",
   "execution_count": 14,
   "id": "975e3f3e-1f6f-4724-8004-fe5ed297854e",
   "metadata": {},
   "outputs": [],
   "source": [
    "# Q5):- Write a program to filter count vowels in the below-given string.\n",
    "\n",
    "#string = \"I want to become a data scientist\""
   ]
  },
  {
   "cell_type": "code",
   "execution_count": 15,
   "id": "9122f138-21da-43bd-b92b-4a363014e589",
   "metadata": {},
   "outputs": [
    {
     "name": "stdout",
     "output_type": "stream",
     "text": [
      "The number of vowels in the string is: 12\n"
     ]
    }
   ],
   "source": [
    "# Define the input string\n",
    "string = \"I want to become a data scientist\"\n",
    "\n",
    "# Define a list of vowels\n",
    "vowels = ['a', 'e', 'i', 'o', 'u']\n",
    "\n",
    "# Convert the string to lowercase for ease of comparison\n",
    "string = string.lower()\n",
    "\n",
    "# Initialize a count variable to 0\n",
    "count = 0\n",
    "\n",
    "# Loop through the string\n",
    "for char in string:\n",
    "    # Check if the character is a vowel\n",
    "    if char in vowels:\n",
    "        # If so, increment the count variable\n",
    "        count += 1\n",
    "\n",
    "# Print the count of vowels in the string\n",
    "print(\"The number of vowels in the string is:\", count)\n"
   ]
  },
  {
   "cell_type": "markdown",
   "id": "9a166e4e-b6da-4c52-a28c-64d83e2ddfe6",
   "metadata": {},
   "source": []
  }
 ],
 "metadata": {
  "kernelspec": {
   "display_name": "Python 3 (ipykernel)",
   "language": "python",
   "name": "python3"
  },
  "language_info": {
   "codemirror_mode": {
    "name": "ipython",
    "version": 3
   },
   "file_extension": ".py",
   "mimetype": "text/x-python",
   "name": "python",
   "nbconvert_exporter": "python",
   "pygments_lexer": "ipython3",
   "version": "3.10.8"
  }
 },
 "nbformat": 4,
 "nbformat_minor": 5
}
