{
 "cells": [
  {
   "cell_type": "markdown",
   "id": "a5094da8-f17f-4c9d-a8cf-f2642958d0be",
   "metadata": {},
   "source": [
    "# Q1) What is Abstraction in OOps? Explain with an example."
   ]
  },
  {
   "cell_type": "markdown",
   "id": "17693a16-feeb-498f-b2eb-17c3728b2f06",
   "metadata": {},
   "source": [
    "# Abstraction is a fundamental concept in Object-Oriented Programming (OOPs) that allows you to focus on essential features of an object rather than its implementation details.\n",
    " # In other words, abstraction is the process of hiding complex implementation details of an object and showing only the necessary information to the user.\n",
    "  # In OOPs, abstraction can be achieved through two ways:\n",
    "\n",
    "# 1)Abstract Classes\n",
    "# 2)Interfaces\n",
    "\n",
    " # Abstract Classes:\n",
    " # An abstract class is a class that cannot be instantiated, meaning you cannot create objects of that class. It provides a blueprint for other classes to follow and can have both abstract and non-abstract methods.\n",
    " # Abstract methods are the methods without any implementation, and the class that extends this abstract class is responsible for providing implementation for those abstract methods.\n",
    " \n",
    " # Example of an abstract class:\n",
    " \n",
    "abstract class Vehicle {\n",
    "    int year;\n",
    "    String make;\n",
    "    String model;\n",
    "    \n",
    "    public abstract void start();\n",
    "    public abstract void stop();\n",
    "}\n",
    "\n",
    "\n",
    "# Interfaces:\n",
    " \n",
    " # An interface is a collection of abstract methods that define a set of actions that a class must perform. Unlike an abstract class, an interface cannot have any implementation, but it can be implemented by any class. By implementing an interface, a class agrees to provide the implementation for all the methods defined in the interface.\n",
    "  \n",
    "  interface Animal {\n",
    "    public void move();\n",
    "    public void eat();\n",
    "}\n",
    " \n",
    "    \n",
    "   # Here, the interface Animal defines two abstract methods move() and eat(). Any class that implements this interface must provide implementation for these methods.\n",
    "\n",
    "\n"
   ]
  },
  {
   "cell_type": "markdown",
   "id": "fe3c6533-e145-4d5b-8735-6191e06fc8ba",
   "metadata": {},
   "source": [
    "# Q2. Differentiate between Abstraction and Encapsulation. Explain with an example.\n"
   ]
  },
  {
   "cell_type": "markdown",
   "id": "d1e13483-ab3e-44a3-becc-450e0dc36775",
   "metadata": {},
   "source": [
    "# Abstraction and Encapsulation are two fundamental concepts of Object-Oriented Programming (OOP) that are often used together to create well-designed and maintainable code. Although they share some similarities, they are different concepts\n",
    "\n",
    "# Abstraction is the process of hiding complex implementation details of an object and showing only the necessary information to the user. In other words, abstraction is concerned with the behavior of an object, whereas encapsulation is concerned with the state of an object.\n",
    "     \n",
    "    class BankAccount {\n",
    "    private int balance;\n",
    "    \n",
    "    public void deposit(int amount) {\n",
    "        balance += amount;\n",
    "    }\n",
    "    \n",
    "    public void withdraw(int amount) {\n",
    "        if (balance >= amount) {\n",
    "            balance -= amount;\n",
    "        }\n",
    "    }\n",
    "    \n",
    "    public int getBalance() {\n",
    "        return balance;\n",
    "    }\n",
    "}\n",
    "\n",
    "# Encapsulation is the process of wrapping data and code that operate on that data into a single unit. This unit is called a class, and the data and code are encapsulated inside it.\n",
    "# The state of an object is hidden from the outside world, and only the class's methods can access or modify it.\n",
    " \n",
    "    class BankAccount {\n",
    "    private int balance;\n",
    "    \n",
    "    public void deposit(int amount) {\n",
    "        balance += amount;\n",
    "    }\n",
    "    \n",
    "    public void withdraw(int amount) {\n",
    "        if (balance >= amount) {\n",
    "            balance -= amount;\n",
    "        }\n",
    "    }\n",
    "    \n",
    "    public int getBalance() {\n",
    "        return balance;\n",
    "    }\n",
    "}\n",
    "\n",
    "\n",
    "\n",
    "\n"
   ]
  },
  {
   "cell_type": "markdown",
   "id": "b366aabd-ee1e-4262-8c6e-7b43b1bbd231",
   "metadata": {},
   "source": [
    "# Q3. What is abc module in python? Why is it used?"
   ]
  },
  {
   "cell_type": "markdown",
   "id": "dbec6acf-8ed2-4035-8378-a566be1c80aa",
   "metadata": {},
   "source": [
    "# The abc module in Python stands for \"Abstract Base Classes.\" It is a built-in module that provides a way to define abstract base classes in Python.\n",
    "# An abstract base class is a class that cannot be instantiated and is intended to be subclassed. It provides a way to define a set of methods that a subclass must implement, without providing any implementation for those methods.\n",
    "\n",
    "# The abc module is used to implement abstract base classes and define a set of methods that a subclass must implement. \n",
    "# By defining an abstract base class, you can create a common interface that multiple subclasses can implement. \n",
    "# This helps to ensure that all the subclasses have the same interface and behavior, making it easier to write maintainable and extensible code."
   ]
  },
  {
   "cell_type": "markdown",
   "id": "11983191-7ce2-4f2e-85ca-76cf545d2fda",
   "metadata": {},
   "source": [
    "# Q4. How can we achieve data abstraction?"
   ]
  },
  {
   "cell_type": "markdown",
   "id": "3975f6f3-63c2-47db-9595-0940b71cce3f",
   "metadata": {},
   "source": [
    "# Data abstraction is the process of hiding complex implementation details of data structures and exposing only the essential features to the user. In other words, it is a way to separate the interface of a data structure from its implementation.\n",
    "\n",
    "# There are several ways to achieve data abstraction in programming:\n",
    "\n",
    "\n",
    "# 1)Using classes and objects: One way to achieve data abstraction is to use classes and objects in Object-Oriented Programming (OOP). A class can be used to define the interface of a data structure, and its methods can be used to manipulate the data. The implementation details of the data structure are hidden inside the class, and only the essential features are exposed to the user.\n",
    "\n",
    "# 2) Using functions: Functions can be used to achieve data abstraction by separating the interface of a data structure from its implementation. A function can take inputs, manipulate the data, and return outputs without exposing its implementation details to the user.\n",
    "\n",
    "# 3)Using modules: Modules can be used to achieve data abstraction by providing a set of functions or classes that can be used to manipulate data without exposing its implementation details to the user.\n"
   ]
  },
  {
   "cell_type": "markdown",
   "id": "2d1e878d-6e78-4e0f-a85a-9a8be26695e3",
   "metadata": {},
   "source": [
    "# Q5. Can we create an instance of an abstract class? Explain your answer."
   ]
  },
  {
   "cell_type": "markdown",
   "id": "bf6045c1-1aa3-4e77-9105-2c9328b183d7",
   "metadata": {},
   "source": [
    "# No, we cannot create an instance of an abstract class directly because an abstract class is an incomplete class that cannot be instantiated.\n",
    "# An abstract class is designed to be a blueprint or a base class for other classes to inherit from and implement its abstract methods, which are declared without implementation in the abstract class. Therefore, creating an instance of an abstract class is meaningless as there may not be any implementation for some of its methods, which makes it incomplete and unsuitable for direct use.\n",
    "# However, we can create an instance of a concrete class that inherits from an abstract class and implements all its abstract methods. The concrete class provides a complete implementation of the abstract methods, which makes it a fully functional class that can be instantiated and used."
   ]
  },
  {
   "cell_type": "code",
   "execution_count": null,
   "id": "17a5ec48-8642-493d-8e48-2255826b9a5f",
   "metadata": {},
   "outputs": [],
   "source": []
  }
 ],
 "metadata": {
  "kernelspec": {
   "display_name": "Python 3 (ipykernel)",
   "language": "python",
   "name": "python3"
  },
  "language_info": {
   "codemirror_mode": {
    "name": "ipython",
    "version": 3
   },
   "file_extension": ".py",
   "mimetype": "text/x-python",
   "name": "python",
   "nbconvert_exporter": "python",
   "pygments_lexer": "ipython3",
   "version": "3.10.8"
  }
 },
 "nbformat": 4,
 "nbformat_minor": 5
}
