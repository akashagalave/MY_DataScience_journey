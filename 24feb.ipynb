{
 "cells": [
  {
   "cell_type": "markdown",
   "id": "5c9d7dd7-d215-46c8-9335-30bf83cca44a",
   "metadata": {},
   "source": [
    "# Q1. List any five functions of the pandas library with execution."
   ]
  },
  {
   "cell_type": "markdown",
   "id": "5866261f-e2fa-4b6a-aaa7-721e041063df",
   "metadata": {},
   "source": [
    "read_csv():\n",
    "This function is used to read data from a CSV file and create a DataFrame. It is widely used for data ingestion and analysis."
   ]
  },
  {
   "cell_type": "code",
   "execution_count": 2,
   "id": "93157354-a2a5-4cd9-b936-60c587de512c",
   "metadata": {},
   "outputs": [
    {
     "name": "stdout",
     "output_type": "stream",
     "text": [
      "   gender race_ethnicity parental_level_of_education         lunch  \\\n",
      "0  female        group B           bachelor's degree      standard   \n",
      "1  female        group C                some college      standard   \n",
      "2  female        group B             master's degree      standard   \n",
      "3    male        group A          associate's degree  free/reduced   \n",
      "4    male        group C                some college      standard   \n",
      "\n",
      "  test_preparation_course  math_score  reading_score  writing_score  \n",
      "0                    none          72             72             74  \n",
      "1               completed          69             90             88  \n",
      "2                    none          90             95             93  \n",
      "3                    none          47             57             44  \n",
      "4                    none          76             78             75  \n"
     ]
    }
   ],
   "source": [
    "import pandas as pd\n",
    "\n",
    "# Read CSV file into a DataFrame\n",
    "df = pd.read_csv('stud.csv')\n",
    "\n",
    "# Print the first few rows of the DataFrame\n",
    "print(df.head())\n"
   ]
  },
  {
   "cell_type": "code",
   "execution_count": null,
   "id": "abc4c50d-5f3a-4293-a8af-b1ed0b71da5a",
   "metadata": {},
   "outputs": [],
   "source": []
  },
  {
   "cell_type": "markdown",
   "id": "62a430fe-eb5a-4204-a0a6-d16548ef0bcb",
   "metadata": {},
   "source": [
    "# Q2. Given a Pandas DataFrame df with columns 'A', 'B', and 'C', write a Python function to re-index theDataFrame with a new index that starts from 1 and increments by 2 for each row."
   ]
  },
  {
   "cell_type": "code",
   "execution_count": 4,
   "id": "65ec30f5-7c6e-4817-9388-89c92e62cb2b",
   "metadata": {},
   "outputs": [
    {
     "name": "stdout",
     "output_type": "stream",
     "text": [
      "    A   B   C\n",
      "1  10  40  70\n",
      "3  20  50  80\n",
      "5  30  60  90\n"
     ]
    }
   ],
   "source": [
    "import pandas as pd\n",
    "\n",
    "def reindex_with_increment(df):\n",
    "    # Reset the index\n",
    "    df = df.reset_index(drop=True)\n",
    "    \n",
    "    # Create a new index starting from 1 and incrementing by 2\n",
    "    new_index = pd.RangeIndex(start=1, stop=2*len(df)+1, step=2)\n",
    "    \n",
    "    # Assign the new index to the DataFrame\n",
    "    df.index = new_index\n",
    "    \n",
    "    return df\n",
    "# Sample DataFrame\n",
    "df = pd.DataFrame({'A': [10, 20, 30], 'B': [40, 50, 60], 'C': [70, 80, 90]})\n",
    "\n",
    "# Re-index the DataFrame\n",
    "reindexed_df = reindex_with_increment(df)\n",
    "\n",
    "# Print the re-indexed DataFrame\n",
    "print(reindexed_df)\n"
   ]
  },
  {
   "cell_type": "code",
   "execution_count": null,
   "id": "69874833-bd21-43b7-b71b-badca0032028",
   "metadata": {},
   "outputs": [],
   "source": []
  },
  {
   "cell_type": "markdown",
   "id": "ce793217-c095-42b0-bd5f-23e7b2763769",
   "metadata": {
    "tags": []
   },
   "source": [
    "# Q3. You have a Pandas DataFrame df with a column named 'Values'. Write a Python function thatiterates over the DataFrame and calculates the sum of the first three values in the 'Values' column. Thefunction should print the sum to the console.For example, if the 'Values' column of df contains the values [10, 20, 30, 40, 50], your function shouldcalculate and print the sum of the first three values, which is 60."
   ]
  },
  {
   "cell_type": "code",
   "execution_count": 7,
   "id": "89c8ccd6-4048-4a97-bc6c-287c86d24112",
   "metadata": {},
   "outputs": [
    {
     "name": "stdout",
     "output_type": "stream",
     "text": [
      "Sum of the first three values: 60\n"
     ]
    }
   ],
   "source": [
    "\n",
    "import pandas as pd\n",
    "\n",
    "def calculate_sum_of_first_three(df):\n",
    "    # Slice the first three values from the 'Values' column and calculate the sum\n",
    "    total_sum = df['Values'].iloc[:3].sum()\n",
    "    \n",
    "    # Print the sum to the console\n",
    "    print(\"Sum of the first three values:\", total_sum)\n",
    "# Sample DataFrame\n",
    "df = pd.DataFrame({'Values': [10, 20, 30, 40, 50]})\n",
    "\n",
    "# Calculate the sum of the first three values\n",
    "calculate_sum_of_first_three(df)\n"
   ]
  },
  {
   "cell_type": "code",
   "execution_count": null,
   "id": "72b61dc0-1816-4f78-bf4d-c5a5508daad6",
   "metadata": {},
   "outputs": [],
   "source": []
  },
  {
   "cell_type": "markdown",
   "id": "0dbafaff-426b-4121-b58c-579aba519242",
   "metadata": {},
   "source": [
    "# Q4. Given a Pandas DataFrame df with a column 'Text', write a Python function to create a new column'Word_Count' that contains the number of words in each row of the 'Text' column."
   ]
  },
  {
   "cell_type": "code",
   "execution_count": 8,
   "id": "9495fddf-4637-41b3-9994-03a2a5525f83",
   "metadata": {},
   "outputs": [
    {
     "name": "stdout",
     "output_type": "stream",
     "text": [
      "                        Text  Word_Count\n",
      "0                Hello world           2\n",
      "1  Python programming is fun           4\n",
      "2              Data analysis           2\n"
     ]
    }
   ],
   "source": [
    "import pandas as pd\n",
    "\n",
    "def add_word_count_column(df):\n",
    "    # Create a new column 'Word_Count' by applying a lambda function to count the words in each row of 'Text'\n",
    "    df['Word_Count'] = df['Text'].apply(lambda x: len(str(x).split()))\n",
    "    \n",
    "    return df\n",
    "# Sample DataFrame\n",
    "df = pd.DataFrame({'Text': ['Hello world', 'Python programming is fun', 'Data analysis']})\n",
    "\n",
    "# Add the 'Word_Count' column\n",
    "df = add_word_count_column(df)\n",
    "\n",
    "# Print the updated DataFrame\n",
    "print(df)\n"
   ]
  },
  {
   "cell_type": "code",
   "execution_count": null,
   "id": "c8ae7dca-f691-4b53-8917-1da70b5d5f19",
   "metadata": {},
   "outputs": [],
   "source": []
  },
  {
   "cell_type": "markdown",
   "id": "226d2395-119b-448a-b96d-32cb2f65d9a9",
   "metadata": {},
   "source": [
    "# Q5. How are DataFrame.size() and DataFrame.shape() different?"
   ]
  },
  {
   "cell_type": "markdown",
   "id": "560b6ad1-e60e-42ef-ae6a-45a9050837c6",
   "metadata": {},
   "source": [
    "DataFrame.size and DataFrame.shape are both attributes of a Pandas DataFrame, but they represent different aspects of the DataFrame.\n",
    "\n",
    "DataFrame.size:\n",
    "\n",
    "DataFrame.size returns the total number of elements in the DataFrame, which is equal to the product of the number of rows and the number of columns.\n",
    "It provides the overall size or the total count of elements in the DataFrame, including both data values and any missing or null values.\n",
    "The size attribute returns a single integer value.\n",
    "The formula to calculate the size is: DataFrame.size = DataFrame.shape[0] * DataFrame.shape[1].\n",
    "DataFrame.shape:\n",
    "\n",
    "DataFrame.shape returns a tuple representing the dimensions of the DataFrame.\n",
    "It provides the number of rows and columns in the DataFrame, respectively.\n",
    "The shape attribute returns a tuple in the format (number of rows, number of columns).\n",
    "It does not consider the actual data values or the presence of missing or null values in the DataFrame."
   ]
  },
  {
   "cell_type": "code",
   "execution_count": null,
   "id": "e98da45e-d264-4eeb-a02f-f268b7417f31",
   "metadata": {},
   "outputs": [],
   "source": []
  },
  {
   "cell_type": "markdown",
   "id": "3ef2162c-8af9-4214-88c8-2e7f09ee3052",
   "metadata": {},
   "source": [
    "#  Q6. Which function of pandas do we use to read an excel file?"
   ]
  },
  {
   "cell_type": "code",
   "execution_count": 10,
   "id": "a09162da-8a9f-497e-ba7a-70b3c06bb128",
   "metadata": {},
   "outputs": [],
   "source": [
    "import pandas as pd\n",
    "\n",
    "# Read the Excel file and create a DataFrame\n",
    "df = pd.read_excel('flight_price.xlsx')\n",
    "\n",
    "# Perform operations on the DataFrame\n",
    "# ...\n"
   ]
  },
  {
   "cell_type": "code",
   "execution_count": null,
   "id": "0ca78b71-e14c-4493-b1bb-fc9052f73761",
   "metadata": {},
   "outputs": [],
   "source": []
  },
  {
   "cell_type": "markdown",
   "id": "5319a284-3477-45a2-8808-2773ab896480",
   "metadata": {},
   "source": [
    "#  Q7. You have a Pandas DataFrame df that contains a column named 'Email' that contains emailaddresses in the format 'username@domain.com'. Write a Python function that creates a new column'Username' in df that contains only the username part of each email address.The username is the part of the email address that appears before the '@' symbol. For example, if theemail address is 'john.doe@example.com', the 'Username' column should contain 'john.doe'. Yourfunction should extract the username from each email address and store it in the new 'Username'column."
   ]
  },
  {
   "cell_type": "code",
   "execution_count": 11,
   "id": "6b71b13c-e34b-4feb-b2f8-a56cec6b12b4",
   "metadata": {},
   "outputs": [
    {
     "name": "stdout",
     "output_type": "stream",
     "text": [
      "                    Email    Username\n",
      "0    john.doe@example.com    john.doe\n",
      "1  jane.smith@example.com  jane.smith\n",
      "2       alice@example.com       alice\n"
     ]
    }
   ],
   "source": [
    "import pandas as pd\n",
    "\n",
    "def extract_username(df):\n",
    "    # Create a new column 'Username' by extracting the username from each email address\n",
    "    df['Username'] = df['Email'].apply(lambda x: x.split('@')[0])\n",
    "    \n",
    "    return df\n",
    "# Sample DataFrame\n",
    "df = pd.DataFrame({'Email': ['john.doe@example.com', 'jane.smith@example.com', 'alice@example.com']})\n",
    "\n",
    "# Extract the username from email addresses\n",
    "df = extract_username(df)\n",
    "\n",
    "# Print the updated DataFrame\n",
    "print(df)\n"
   ]
  },
  {
   "cell_type": "code",
   "execution_count": null,
   "id": "21535d52-e041-4a77-a5bd-a7312e62c20e",
   "metadata": {},
   "outputs": [],
   "source": []
  },
  {
   "cell_type": "markdown",
   "id": "93f56957-9603-4fa4-8ba3-8cf0d0b4b24f",
   "metadata": {},
   "source": [
    " #  Q8. You have a Pandas DataFrame df with columns 'A', 'B', and 'C'. Write a Python function that selectsall rows where the value in column 'A' is greater than 5 and the value in column 'B' is less than 10. Thefunction should return a new DataFrame that contains only the selected rows.For example, if df contains the following values:A B C0 3 5 11 8 2 72 6 9 43 2 3 54 9 1 2Your function should select the following rows: A B C1 8 2 74 9 1 2The function should return a new DataFrame that contains only the selected rows.\n"
   ]
  },
  {
   "cell_type": "code",
   "execution_count": 12,
   "id": "b27fb780-ba3e-42ed-8215-23f18db7c61a",
   "metadata": {},
   "outputs": [
    {
     "name": "stdout",
     "output_type": "stream",
     "text": [
      "   A  B  C\n",
      "1  8  2  7\n",
      "2  6  9  4\n",
      "4  9  1  2\n"
     ]
    }
   ],
   "source": [
    "import pandas as pd\n",
    "\n",
    "def select_rows(df):\n",
    "    # Boolean indexing to select rows\n",
    "    selected_rows = df[(df['A'] > 5) & (df['B'] < 10)]\n",
    "    \n",
    "    return selected_rows\n",
    "# Sample DataFrame\n",
    "df = pd.DataFrame({'A': [3, 8, 6, 2, 9], 'B': [5, 2, 9, 3, 1], 'C': [1, 7, 4, 5, 2]})\n",
    "\n",
    "# Select rows based on conditions\n",
    "selected_df = select_rows(df)\n",
    "\n",
    "# Print the selected DataFrame\n",
    "print(selected_df)\n"
   ]
  },
  {
   "cell_type": "markdown",
   "id": "22a91555-2ee6-44ab-9b98-34e5beb365c7",
   "metadata": {},
   "source": [
    "# Q9. Given a Pandas DataFrame df with a column 'Values', write a Python function to calculate the mean,median, and standard deviation of the values in the 'Values' column."
   ]
  },
  {
   "cell_type": "code",
   "execution_count": 14,
   "id": "57cea27b-d5bf-4350-824c-2c88c21bac37",
   "metadata": {},
   "outputs": [],
   "source": [
    "import pandas as pd\n",
    "\n",
    "def calculate_stats(df):\n",
    "    # Calculate mean, median, and standard deviation of 'Values' column\n",
    "    mean_value = df['Values'].mean()\n",
    "    median_value = df['Values'].median()\n",
    "    std_deviation = df['Values'].std()\n",
    "    \n",
    "    return mean_value, median_value, std_deviation\n",
    "import pandas as pd\n",
    "\n",
    "def calculate_stats(df):\n",
    "    # Calculate mean, median, and standard deviation of 'Values' column\n",
    "    mean_value = df['Values'].mean()\n",
    "    median_value = df['Values'].median()\n",
    "    std_deviation = df['Values'].std()\n",
    "    \n",
    "    return mean_value, median_value, std_deviation\n"
   ]
  },
  {
   "cell_type": "code",
   "execution_count": null,
   "id": "f8f3f5c5-57cf-4d4c-a8ee-a6de0acb9d13",
   "metadata": {},
   "outputs": [],
   "source": []
  },
  {
   "cell_type": "markdown",
   "id": "7f5d9d4d-93bf-4dba-938c-21ced51adcae",
   "metadata": {},
   "source": [
    "#  Q10. Given a Pandas DataFrame df with a column 'Sales' and a column 'Date', write a Python function tocreate a new column 'MovingAverage' that contains the moving average of the sales for the past 7 daysfor each row in the DataFrame. The moving average should be calculated using a window of size 7 andshould include the current day."
   ]
  },
  {
   "cell_type": "code",
   "execution_count": 15,
   "id": "9dbe4bac-783d-4f34-b0a2-0b61af55ef31",
   "metadata": {},
   "outputs": [
    {
     "name": "stdout",
     "output_type": "stream",
     "text": [
      "        Date  Sales  MovingAverage\n",
      "0 2023-01-01     10           10.0\n",
      "1 2023-01-02     15           12.5\n",
      "2 2023-01-03     20           15.0\n",
      "3 2023-01-04     25           17.5\n",
      "4 2023-01-05     30           20.0\n",
      "5 2023-01-06     35           22.5\n",
      "6 2023-01-07     40           25.0\n",
      "7 2023-01-08     45           30.0\n"
     ]
    }
   ],
   "source": [
    "import pandas as pd\n",
    "\n",
    "def calculate_moving_average(df):\n",
    "    # Convert 'Date' column to datetime if not already\n",
    "    df['Date'] = pd.to_datetime(df['Date'])\n",
    "    \n",
    "    # Sort DataFrame by 'Date' column in ascending order\n",
    "    df.sort_values('Date', inplace=True)\n",
    "    \n",
    "    # Calculate moving average using a window of size 7\n",
    "    df['MovingAverage'] = df['Sales'].rolling(window=7, min_periods=1).mean()\n",
    "    \n",
    "    return df\n",
    "# Sample DataFrame\n",
    "df = pd.DataFrame({'Date': ['2023-01-01', '2023-01-02', '2023-01-03', '2023-01-04', '2023-01-05', '2023-01-06', '2023-01-07', '2023-01-08'],\n",
    "                   'Sales': [10, 15, 20, 25, 30, 35, 40, 45]})\n",
    "\n",
    "# Calculate moving average\n",
    "df = calculate_moving_average(df)\n",
    "\n",
    "# Print the updated DataFrame\n",
    "print(df)\n"
   ]
  },
  {
   "cell_type": "code",
   "execution_count": null,
   "id": "1678e094-8440-4be2-8c37-a1514285ecc4",
   "metadata": {},
   "outputs": [],
   "source": []
  },
  {
   "cell_type": "markdown",
   "id": "124c9151-0dcb-4518-acf1-4707fb25cc54",
   "metadata": {},
   "source": [
    "# Q11. You have a Pandas DataFrame df with a column 'Date'. Write a Python function that creates a newcolumn 'Weekday' in the DataFrame. The 'Weekday' column should contain the weekday name (e.g.Monday, Tuesday) corresponding to each date in the 'Date' column.For example, if df contains the following values:Date0 2023-01-011 2023-01-022 2023-01-3 2023-01-044 2023-01-05Your function should create the following DataFrame:Date Weekday0 2023-01-01 Sunday1 2023-01-02 Monday2 2023-01-03 Tuesday3 2023-01-04 Wednesda4 2023-01-05 ThursdayThe function should return the modified DataFrame."
   ]
  },
  {
   "cell_type": "code",
   "execution_count": 16,
   "id": "b3608998-2918-4382-b91d-ece289d2c5d1",
   "metadata": {},
   "outputs": [
    {
     "name": "stdout",
     "output_type": "stream",
     "text": [
      "        Date    Weekday\n",
      "0 2023-01-01     Sunday\n",
      "1 2023-01-02     Monday\n",
      "2 2023-01-03    Tuesday\n",
      "3 2023-01-04  Wednesday\n",
      "4 2023-01-05   Thursday\n"
     ]
    }
   ],
   "source": [
    "import pandas as pd\n",
    "\n",
    "def add_weekday_column(df):\n",
    "    # Convert 'Date' column to datetime if not already\n",
    "    df['Date'] = pd.to_datetime(df['Date'])\n",
    "    \n",
    "    # Create 'Weekday' column with weekday names\n",
    "    df['Weekday'] = df['Date'].dt.strftime('%A')\n",
    "    \n",
    "    return df\n",
    "# Sample DataFrame\n",
    "df = pd.DataFrame({'Date': ['2023-01-01', '2023-01-02', '2023-01-03', '2023-01-04', '2023-01-05']})\n",
    "\n",
    "# Add 'Weekday' column\n",
    "df = add_weekday_column(df)\n",
    "\n",
    "# Print the updated DataFrame\n",
    "print(df)\n"
   ]
  },
  {
   "cell_type": "code",
   "execution_count": null,
   "id": "53c251b8-582d-422e-87a4-6f8cf4794eba",
   "metadata": {},
   "outputs": [],
   "source": []
  },
  {
   "cell_type": "markdown",
   "id": "7c57c22f-e6a9-471f-9a73-e8215becdf66",
   "metadata": {},
   "source": [
    "# Q12. Given a Pandas DataFrame df with a column 'Date' that contains timestamps, write a Pythonfunction to select all rows where the date is between '2023-01-01' and '2023-01-31'."
   ]
  },
  {
   "cell_type": "code",
   "execution_count": 17,
   "id": "5ddda015-3439-4be1-a692-6883cf48699c",
   "metadata": {},
   "outputs": [
    {
     "name": "stdout",
     "output_type": "stream",
     "text": [
      "        Date  Value\n",
      "0 2023-01-01     10\n",
      "1 2023-01-15     20\n",
      "2 2023-01-25     30\n"
     ]
    }
   ],
   "source": [
    "import pandas as pd\n",
    "\n",
    "def select_rows_by_date(df, start_date, end_date):\n",
    "    # Convert 'Date' column to datetime if not already\n",
    "    df['Date'] = pd.to_datetime(df['Date'])\n",
    "    \n",
    "    # Boolean indexing to select rows within the date range\n",
    "    selected_rows = df[(df['Date'] >= start_date) & (df['Date'] <= end_date)]\n",
    "    \n",
    "    return selected_rows\n",
    "# Sample DataFrame\n",
    "df = pd.DataFrame({'Date': ['2023-01-01', '2023-01-15', '2023-01-25', '2023-02-01'],\n",
    "                   'Value': [10, 20, 30, 40]})\n",
    "\n",
    "# Select rows within the date range '2023-01-01' and '2023-01-31'\n",
    "selected_df = select_rows_by_date(df, '2023-01-01', '2023-01-31')\n",
    "\n",
    "# Print the selected DataFrame\n",
    "print(selected_df)\n"
   ]
  },
  {
   "cell_type": "code",
   "execution_count": null,
   "id": "6366d135-9cae-461d-825f-2bca675da86e",
   "metadata": {},
   "outputs": [],
   "source": []
  },
  {
   "cell_type": "markdown",
   "id": "44d37f56-d881-4514-8536-a73a40bb1b7f",
   "metadata": {},
   "source": [
    "# Q13. To use the basic functions of pandas, what is the first and foremost necessary library that needs tobe imported? "
   ]
  },
  {
   "cell_type": "code",
   "execution_count": 18,
   "id": "230f9045-29bb-444f-adf1-1f1edf3aaf51",
   "metadata": {},
   "outputs": [],
   "source": [
    "import pandas as pd\n"
   ]
  },
  {
   "cell_type": "code",
   "execution_count": null,
   "id": "dc4244fc-50c9-49ba-859f-6fb0422a76c9",
   "metadata": {},
   "outputs": [],
   "source": []
  }
 ],
 "metadata": {
  "kernelspec": {
   "display_name": "Python 3 (ipykernel)",
   "language": "python",
   "name": "python3"
  },
  "language_info": {
   "codemirror_mode": {
    "name": "ipython",
    "version": 3
   },
   "file_extension": ".py",
   "mimetype": "text/x-python",
   "name": "python",
   "nbconvert_exporter": "python",
   "pygments_lexer": "ipython3",
   "version": "3.10.8"
  }
 },
 "nbformat": 4,
 "nbformat_minor": 5
}
